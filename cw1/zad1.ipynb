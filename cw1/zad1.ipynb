{
 "cells": [
  {
   "cell_type": "code",
   "execution_count": 1,
   "metadata": {
    "collapsed": true
   },
   "outputs": [],
   "source": [
    "import pandas as pd"
   ]
  },
  {
   "cell_type": "code",
   "execution_count": 2,
   "outputs": [
    {
     "data": {
      "text/plain": "       country iso2 iso3  iso_numeric g_whoregion  year source_rr_new  \\\n0  Afghanistan   AF  AFG            4         EMR  2015         Model   \n1  Afghanistan   AF  AFG            4         EMR  2016         Model   \n2  Afghanistan   AF  AFG            4         EMR  2017         Model   \n3  Afghanistan   AF  AFG            4         EMR  2018         Model   \n4  Afghanistan   AF  AFG            4         EMR  2019         Model   \n\n   e_rr_pct_new  e_rr_pct_new_lo  e_rr_pct_new_hi source_rr_ret  e_rr_pct_ret  \\\n0           5.1             0.45             19.0  Surveillance           8.6   \n1           5.1             0.50             20.0  Surveillance          11.0   \n2           5.2             0.53             19.0  Surveillance          15.0   \n3           5.2             0.54             20.0  Surveillance          19.0   \n4           5.3             0.55             20.0  Surveillance          24.0   \n\n   e_rr_pct_ret_lo  e_rr_pct_ret_hi  e_inc_rr_num  e_inc_rr_num_lo  \\\n0              6.5             11.0          3600                0   \n1              9.4             14.0          3800                0   \n2             13.0             16.0          3900                0   \n3             17.0             20.0          4100                0   \n4             21.0             26.0          4300                0   \n\n   e_inc_rr_num_hi  \n0            10000  \n1            11000  \n2            11000  \n3            12000  \n4            12000  ",
      "text/html": "<div>\n<style scoped>\n    .dataframe tbody tr th:only-of-type {\n        vertical-align: middle;\n    }\n\n    .dataframe tbody tr th {\n        vertical-align: top;\n    }\n\n    .dataframe thead th {\n        text-align: right;\n    }\n</style>\n<table border=\"1\" class=\"dataframe\">\n  <thead>\n    <tr style=\"text-align: right;\">\n      <th></th>\n      <th>country</th>\n      <th>iso2</th>\n      <th>iso3</th>\n      <th>iso_numeric</th>\n      <th>g_whoregion</th>\n      <th>year</th>\n      <th>source_rr_new</th>\n      <th>e_rr_pct_new</th>\n      <th>e_rr_pct_new_lo</th>\n      <th>e_rr_pct_new_hi</th>\n      <th>source_rr_ret</th>\n      <th>e_rr_pct_ret</th>\n      <th>e_rr_pct_ret_lo</th>\n      <th>e_rr_pct_ret_hi</th>\n      <th>e_inc_rr_num</th>\n      <th>e_inc_rr_num_lo</th>\n      <th>e_inc_rr_num_hi</th>\n    </tr>\n  </thead>\n  <tbody>\n    <tr>\n      <th>0</th>\n      <td>Afghanistan</td>\n      <td>AF</td>\n      <td>AFG</td>\n      <td>4</td>\n      <td>EMR</td>\n      <td>2015</td>\n      <td>Model</td>\n      <td>5.1</td>\n      <td>0.45</td>\n      <td>19.0</td>\n      <td>Surveillance</td>\n      <td>8.6</td>\n      <td>6.5</td>\n      <td>11.0</td>\n      <td>3600</td>\n      <td>0</td>\n      <td>10000</td>\n    </tr>\n    <tr>\n      <th>1</th>\n      <td>Afghanistan</td>\n      <td>AF</td>\n      <td>AFG</td>\n      <td>4</td>\n      <td>EMR</td>\n      <td>2016</td>\n      <td>Model</td>\n      <td>5.1</td>\n      <td>0.50</td>\n      <td>20.0</td>\n      <td>Surveillance</td>\n      <td>11.0</td>\n      <td>9.4</td>\n      <td>14.0</td>\n      <td>3800</td>\n      <td>0</td>\n      <td>11000</td>\n    </tr>\n    <tr>\n      <th>2</th>\n      <td>Afghanistan</td>\n      <td>AF</td>\n      <td>AFG</td>\n      <td>4</td>\n      <td>EMR</td>\n      <td>2017</td>\n      <td>Model</td>\n      <td>5.2</td>\n      <td>0.53</td>\n      <td>19.0</td>\n      <td>Surveillance</td>\n      <td>15.0</td>\n      <td>13.0</td>\n      <td>16.0</td>\n      <td>3900</td>\n      <td>0</td>\n      <td>11000</td>\n    </tr>\n    <tr>\n      <th>3</th>\n      <td>Afghanistan</td>\n      <td>AF</td>\n      <td>AFG</td>\n      <td>4</td>\n      <td>EMR</td>\n      <td>2018</td>\n      <td>Model</td>\n      <td>5.2</td>\n      <td>0.54</td>\n      <td>20.0</td>\n      <td>Surveillance</td>\n      <td>19.0</td>\n      <td>17.0</td>\n      <td>20.0</td>\n      <td>4100</td>\n      <td>0</td>\n      <td>12000</td>\n    </tr>\n    <tr>\n      <th>4</th>\n      <td>Afghanistan</td>\n      <td>AF</td>\n      <td>AFG</td>\n      <td>4</td>\n      <td>EMR</td>\n      <td>2019</td>\n      <td>Model</td>\n      <td>5.3</td>\n      <td>0.55</td>\n      <td>20.0</td>\n      <td>Surveillance</td>\n      <td>24.0</td>\n      <td>21.0</td>\n      <td>26.0</td>\n      <td>4300</td>\n      <td>0</td>\n      <td>12000</td>\n    </tr>\n  </tbody>\n</table>\n</div>"
     },
     "execution_count": 2,
     "metadata": {},
     "output_type": "execute_result"
    }
   ],
   "source": [
    "df = pd.read_csv('MDR_RR_TB_burden_estimates_2023-01-24.csv')\n",
    "df.head()"
   ],
   "metadata": {
    "collapsed": false
   }
  },
  {
   "cell_type": "code",
   "execution_count": 3,
   "outputs": [
    {
     "data": {
      "text/plain": "0        8.6\n1       11.0\n2       15.0\n3       19.0\n4       24.0\n        ... \n1486    20.0\n1487    21.0\n1488    23.0\n1489    25.0\n1490    28.0\nName: e_rr_pct_ret, Length: 1491, dtype: float64"
     },
     "execution_count": 3,
     "metadata": {},
     "output_type": "execute_result"
    }
   ],
   "source": [
    "data = df['e_rr_pct_ret']\n",
    "data"
   ],
   "metadata": {
    "collapsed": false
   }
  },
  {
   "cell_type": "code",
   "execution_count": 4,
   "outputs": [
    {
     "data": {
      "text/plain": "count    1491.000000\nmean       17.071496\nstd        13.267110\nmin         1.100000\n25%         8.400000\n50%        14.000000\n75%        20.000000\nmax        76.000000\nName: e_rr_pct_ret, dtype: float64"
     },
     "execution_count": 4,
     "metadata": {},
     "output_type": "execute_result"
    }
   ],
   "source": [
    "data.describe()"
   ],
   "metadata": {
    "collapsed": false
   }
  }
 ],
 "metadata": {
  "kernelspec": {
   "display_name": "Python 3",
   "language": "python",
   "name": "python3"
  },
  "language_info": {
   "codemirror_mode": {
    "name": "ipython",
    "version": 2
   },
   "file_extension": ".py",
   "mimetype": "text/x-python",
   "name": "python",
   "nbconvert_exporter": "python",
   "pygments_lexer": "ipython2",
   "version": "2.7.6"
  }
 },
 "nbformat": 4,
 "nbformat_minor": 0
}
