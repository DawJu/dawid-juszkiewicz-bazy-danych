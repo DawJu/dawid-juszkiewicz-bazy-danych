{
 "cells": [
  {
   "cell_type": "code",
   "execution_count": 1,
   "metadata": {
    "collapsed": true
   },
   "outputs": [],
   "source": [
    "import scipy.stats as scs"
   ]
  },
  {
   "cell_type": "code",
   "execution_count": 47,
   "outputs": [
    {
     "data": {
      "text/plain": "array([0, 0, 0, 0, 0, 1, 0, 0, 0, 1, 1, 0, 0, 1, 0, 0, 0, 0, 0, 1, 0, 0,\n       0, 0, 0, 1, 0, 0, 1, 0, 1, 0, 0, 1, 0, 0, 0, 1, 0, 0, 0, 0, 0, 1,\n       1, 0, 1, 0, 1, 1, 0, 0, 0, 0, 0, 0, 0, 1, 0, 0, 1, 0, 0, 1, 0, 1,\n       0, 1, 0, 0, 0, 1, 1, 0, 1, 0, 0, 0, 0, 0, 0, 1, 0, 0, 0, 0, 0, 1,\n       0, 1, 1, 1, 1, 0, 0, 1, 0, 0, 0, 1])"
     },
     "execution_count": 47,
     "metadata": {},
     "output_type": "execute_result"
    }
   ],
   "source": [
    "p = 0.3\n",
    "size = 100\n",
    "data1 = scs.bernoulli.rvs(p, size=size)\n",
    "data1"
   ],
   "metadata": {
    "collapsed": false
   }
  },
  {
   "cell_type": "code",
   "execution_count": 48,
   "outputs": [
    {
     "data": {
      "text/plain": "(array(0.3), array(0.21), array(0.87287156), array(-1.23809524))"
     },
     "execution_count": 48,
     "metadata": {},
     "output_type": "execute_result"
    }
   ],
   "source": [
    "mean1, var1, skew1, kurt1 = scs.bernoulli.stats(p, moments='mvsk')\n",
    "mean1, var1, skew1, kurt1"
   ],
   "metadata": {
    "collapsed": false
   }
  },
  {
   "cell_type": "code",
   "execution_count": 49,
   "outputs": [
    {
     "data": {
      "text/plain": "array([1, 1, 1, 0, 0, 0, 0, 1, 0, 0, 0, 0, 0, 0, 0, 0, 0, 1, 0, 0, 0, 0,\n       0, 1, 0, 0, 0, 1, 0, 0, 0, 1, 0, 1, 0, 0, 1, 0, 0, 1, 1, 0, 0, 0,\n       0, 1, 0, 1, 1, 0, 0, 0, 0, 0, 0, 1, 0, 0, 1, 1, 0, 1, 0, 0, 0, 0,\n       0, 0, 0, 1, 1, 1, 0, 1, 1, 0, 0, 1, 1, 0, 1, 0, 0, 1, 1, 0, 1, 0,\n       0, 0, 1, 0, 1, 0, 0, 0, 0, 1, 0, 1])"
     },
     "execution_count": 49,
     "metadata": {},
     "output_type": "execute_result"
    }
   ],
   "source": [
    "data2 = scs.binom.rvs(p=p, n=1, size=size)\n",
    "data2"
   ],
   "metadata": {
    "collapsed": false
   }
  },
  {
   "cell_type": "code",
   "execution_count": 50,
   "outputs": [
    {
     "data": {
      "text/plain": "(array(0.3), array(0.21), array(0.87287156), array(-1.23809524))"
     },
     "execution_count": 50,
     "metadata": {},
     "output_type": "execute_result"
    }
   ],
   "source": [
    "mean2, var2, skew2, kurt2 = scs.binom.stats(p=p, n=1, moments='mvsk')\n",
    "mean2, var2, skew2, kurt2"
   ],
   "metadata": {
    "collapsed": false
   }
  },
  {
   "cell_type": "code",
   "execution_count": 55,
   "outputs": [
    {
     "data": {
      "text/plain": "array([5, 2, 2, 0, 1, 2, 3, 3, 0, 2, 4, 4, 1, 3, 1, 4, 6, 4, 2, 2, 0, 2,\n       4, 1, 2, 3, 2, 1, 3, 3, 1, 3, 4, 1, 1, 3, 0, 1, 1, 2, 3, 1, 3, 4,\n       3, 1, 1, 2, 1, 3, 0, 5, 1, 1, 2, 2, 4, 1, 3, 3, 6, 3, 3, 2, 2, 4,\n       0, 3, 2, 4, 1, 2, 2, 2, 3, 2, 2, 1, 0, 1, 1, 3, 4, 1, 1, 0, 3, 2,\n       4, 2, 0, 0, 1, 4, 0, 2, 0, 3, 4, 3])"
     },
     "execution_count": 55,
     "metadata": {},
     "output_type": "execute_result"
    }
   ],
   "source": [
    "mu = 2\n",
    "data3 = scs.poisson.rvs(mu=mu, size=size)\n",
    "data3"
   ],
   "metadata": {
    "collapsed": false
   }
  },
  {
   "cell_type": "code",
   "execution_count": 56,
   "outputs": [
    {
     "data": {
      "text/plain": "(array(2.), array(2.), array(0.70710678), array(0.5))"
     },
     "execution_count": 56,
     "metadata": {},
     "output_type": "execute_result"
    }
   ],
   "source": [
    "mean3, var3, skew3, kurt3 = scs.poisson.stats(mu=mu, moments='mvsk')\n",
    "mean3, var3, skew3, kurt3"
   ],
   "metadata": {
    "collapsed": false
   }
  }
 ],
 "metadata": {
  "kernelspec": {
   "display_name": "Python 3",
   "language": "python",
   "name": "python3"
  },
  "language_info": {
   "codemirror_mode": {
    "name": "ipython",
    "version": 2
   },
   "file_extension": ".py",
   "mimetype": "text/x-python",
   "name": "python",
   "nbconvert_exporter": "python",
   "pygments_lexer": "ipython2",
   "version": "2.7.6"
  }
 },
 "nbformat": 4,
 "nbformat_minor": 0
}
