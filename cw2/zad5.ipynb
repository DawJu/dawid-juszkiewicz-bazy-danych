{
 "cells": [
  {
   "cell_type": "code",
   "execution_count": 1,
   "metadata": {
    "collapsed": true
   },
   "outputs": [],
   "source": [
    "import scipy.stats as scs"
   ]
  },
  {
   "cell_type": "code",
   "execution_count": 4,
   "outputs": [],
   "source": [
    "n = 20\n",
    "p = 0.4"
   ],
   "metadata": {
    "collapsed": false
   }
  },
  {
   "cell_type": "code",
   "execution_count": 10,
   "outputs": [
    {
     "name": "stdout",
     "output_type": "stream",
     "text": [
      "k = 0: 3.6561584400629733e-05\n",
      "k = 1: 0.000487487792008398\n",
      "k = 2: 0.0030874226827198492\n",
      "k = 3: 0.012349690730879413\n",
      "k = 4: 0.034990790404158215\n",
      "k = 5: 0.0746470195288711\n",
      "k = 6: 0.12441169921478513\n",
      "k = 7: 0.1658822656197136\n",
      "k = 8: 0.17970578775468962\n",
      "k = 9: 0.1597384780041684\n",
      "k = 10: 0.11714155053639005\n",
      "k = 11: 0.07099487911296365\n",
      "k = 12: 0.03549743955648174\n",
      "k = 13: 0.01456305212573616\n",
      "k = 14: 0.004854350708578719\n",
      "k = 15: 0.0012944935222876583\n",
      "k = 16: 0.00026968615047659553\n",
      "k = 17: 4.2303709878681673e-05\n",
      "k = 18: 4.70041220874241e-06\n",
      "k = 19: 3.2985348833280015e-07\n",
      "k = 20: 1.0995116277760013e-08\n"
     ]
    }
   ],
   "source": [
    "total_prob = 0\n",
    "for k in range(0, 21):\n",
    "    total_prob += scs.binom.pmf(k, n, p)\n",
    "    print(f'k = {k}: {scs.binom.pmf(k, n, p)}')"
   ],
   "metadata": {
    "collapsed": false
   }
  },
  {
   "cell_type": "code",
   "execution_count": 11,
   "outputs": [
    {
     "data": {
      "text/plain": "1.000000000000001"
     },
     "execution_count": 11,
     "metadata": {},
     "output_type": "execute_result"
    }
   ],
   "source": [
    "total_prob"
   ],
   "metadata": {
    "collapsed": false
   }
  }
 ],
 "metadata": {
  "kernelspec": {
   "display_name": "Python 3",
   "language": "python",
   "name": "python3"
  },
  "language_info": {
   "codemirror_mode": {
    "name": "ipython",
    "version": 2
   },
   "file_extension": ".py",
   "mimetype": "text/x-python",
   "name": "python",
   "nbconvert_exporter": "python",
   "pygments_lexer": "ipython2",
   "version": "2.7.6"
  }
 },
 "nbformat": 4,
 "nbformat_minor": 0
}
