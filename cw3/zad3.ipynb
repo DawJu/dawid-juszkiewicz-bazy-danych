{
 "cells": [
  {
   "cell_type": "code",
   "execution_count": 1,
   "metadata": {
    "collapsed": true
   },
   "outputs": [],
   "source": [
    "from scipy.stats import normaltest\n",
    "import pandas as pd"
   ]
  },
  {
   "cell_type": "code",
   "execution_count": 2,
   "outputs": [
    {
     "data": {
      "text/plain": "   mies   rok   pepsi  fanta  żywiec  okocim  regionalne    cola   lech\n0     1  2001  108447  43302  186385   54301       45065  227013  56306\n1     2  2001  105439  46711  168782   68131       43933  221115  67212\n2     3  2001  111675  36029  172186   63104       46663  222812  67398\n3     4  2001  113232  33659  172445   50871       45195  238631  57100\n4     5  2001  110274  40853  174526   67924       47926  222963  65001",
      "text/html": "<div>\n<style scoped>\n    .dataframe tbody tr th:only-of-type {\n        vertical-align: middle;\n    }\n\n    .dataframe tbody tr th {\n        vertical-align: top;\n    }\n\n    .dataframe thead th {\n        text-align: right;\n    }\n</style>\n<table border=\"1\" class=\"dataframe\">\n  <thead>\n    <tr style=\"text-align: right;\">\n      <th></th>\n      <th>mies</th>\n      <th>rok</th>\n      <th>pepsi</th>\n      <th>fanta</th>\n      <th>żywiec</th>\n      <th>okocim</th>\n      <th>regionalne</th>\n      <th>cola</th>\n      <th>lech</th>\n    </tr>\n  </thead>\n  <tbody>\n    <tr>\n      <th>0</th>\n      <td>1</td>\n      <td>2001</td>\n      <td>108447</td>\n      <td>43302</td>\n      <td>186385</td>\n      <td>54301</td>\n      <td>45065</td>\n      <td>227013</td>\n      <td>56306</td>\n    </tr>\n    <tr>\n      <th>1</th>\n      <td>2</td>\n      <td>2001</td>\n      <td>105439</td>\n      <td>46711</td>\n      <td>168782</td>\n      <td>68131</td>\n      <td>43933</td>\n      <td>221115</td>\n      <td>67212</td>\n    </tr>\n    <tr>\n      <th>2</th>\n      <td>3</td>\n      <td>2001</td>\n      <td>111675</td>\n      <td>36029</td>\n      <td>172186</td>\n      <td>63104</td>\n      <td>46663</td>\n      <td>222812</td>\n      <td>67398</td>\n    </tr>\n    <tr>\n      <th>3</th>\n      <td>4</td>\n      <td>2001</td>\n      <td>113232</td>\n      <td>33659</td>\n      <td>172445</td>\n      <td>50871</td>\n      <td>45195</td>\n      <td>238631</td>\n      <td>57100</td>\n    </tr>\n    <tr>\n      <th>4</th>\n      <td>5</td>\n      <td>2001</td>\n      <td>110274</td>\n      <td>40853</td>\n      <td>174526</td>\n      <td>67924</td>\n      <td>47926</td>\n      <td>222963</td>\n      <td>65001</td>\n    </tr>\n  </tbody>\n</table>\n</div>"
     },
     "execution_count": 2,
     "metadata": {},
     "output_type": "execute_result"
    }
   ],
   "source": [
    "df = pd.read_csv('napoje.csv', sep=';')\n",
    "df.rename(columns={'fanta ': 'fanta'}, inplace=True)\n",
    "df.head()"
   ],
   "metadata": {
    "collapsed": false
   }
  },
  {
   "cell_type": "code",
   "execution_count": 3,
   "outputs": [
    {
     "data": {
      "text/plain": "NormaltestResult(statistic=0.656990879516711, pvalue=0.7200062116206445)"
     },
     "execution_count": 3,
     "metadata": {},
     "output_type": "execute_result"
    }
   ],
   "source": [
    "normaltest(df['pepsi'])"
   ],
   "metadata": {
    "collapsed": false
   }
  },
  {
   "cell_type": "code",
   "execution_count": 4,
   "outputs": [
    {
     "data": {
      "text/plain": "NormaltestResult(statistic=3.4000466215098877, pvalue=0.1826792656115071)"
     },
     "execution_count": 4,
     "metadata": {},
     "output_type": "execute_result"
    }
   ],
   "source": [
    "normaltest(df['fanta'])"
   ],
   "metadata": {
    "collapsed": false
   }
  },
  {
   "cell_type": "code",
   "execution_count": 5,
   "outputs": [
    {
     "data": {
      "text/plain": "NormaltestResult(statistic=2.156175541501711, pvalue=0.34024553142391856)"
     },
     "execution_count": 5,
     "metadata": {},
     "output_type": "execute_result"
    }
   ],
   "source": [
    "normaltest(df['żywiec'])"
   ],
   "metadata": {
    "collapsed": false
   }
  },
  {
   "cell_type": "code",
   "execution_count": 6,
   "outputs": [
    {
     "data": {
      "text/plain": "NormaltestResult(statistic=4.135690287488807, pvalue=0.12645798710253495)"
     },
     "execution_count": 6,
     "metadata": {},
     "output_type": "execute_result"
    }
   ],
   "source": [
    "normaltest(df['okocim'])"
   ],
   "metadata": {
    "collapsed": false
   }
  },
  {
   "cell_type": "code",
   "execution_count": 7,
   "outputs": [
    {
     "data": {
      "text/plain": "NormaltestResult(statistic=30.234035074691608, pvalue=2.721214025437686e-07)"
     },
     "execution_count": 7,
     "metadata": {},
     "output_type": "execute_result"
    }
   ],
   "source": [
    "normaltest(df['regionalne'])"
   ],
   "metadata": {
    "collapsed": false
   }
  },
  {
   "cell_type": "code",
   "execution_count": 8,
   "outputs": [
    {
     "data": {
      "text/plain": "NormaltestResult(statistic=1.2477254872820727, pvalue=0.5358705042542622)"
     },
     "execution_count": 8,
     "metadata": {},
     "output_type": "execute_result"
    }
   ],
   "source": [
    "normaltest(df['cola'])"
   ],
   "metadata": {
    "collapsed": false
   }
  },
  {
   "cell_type": "code",
   "execution_count": 9,
   "outputs": [
    {
     "data": {
      "text/plain": "NormaltestResult(statistic=1.4964681294339097, pvalue=0.4732014584808095)"
     },
     "execution_count": 9,
     "metadata": {},
     "output_type": "execute_result"
    }
   ],
   "source": [
    "normaltest(df['lech'])"
   ],
   "metadata": {
    "collapsed": false
   }
  },
  {
   "cell_type": "markdown",
   "source": [
    "Przyjmując poziom istotności 0.05, wszystkie zmienne oprócz piw regionalnych i lecha wykazują normalność"
   ],
   "metadata": {
    "collapsed": false
   }
  }
 ],
 "metadata": {
  "kernelspec": {
   "display_name": "Python 3",
   "language": "python",
   "name": "python3"
  },
  "language_info": {
   "codemirror_mode": {
    "name": "ipython",
    "version": 2
   },
   "file_extension": ".py",
   "mimetype": "text/x-python",
   "name": "python",
   "nbconvert_exporter": "python",
   "pygments_lexer": "ipython2",
   "version": "2.7.6"
  }
 },
 "nbformat": 4,
 "nbformat_minor": 0
}
