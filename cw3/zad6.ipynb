{
 "cells": [
  {
   "cell_type": "code",
   "execution_count": 1,
   "metadata": {
    "collapsed": true
   },
   "outputs": [],
   "source": [
    "from scipy.stats import ttest_rel\n",
    "import pandas as pd"
   ]
  },
  {
   "cell_type": "code",
   "execution_count": 2,
   "outputs": [
    {
     "data": {
      "text/plain": "    rok  regionalne\n0  2001       45065\n1  2001       43933\n2  2001       46663\n3  2001       45195\n4  2001       47926",
      "text/html": "<div>\n<style scoped>\n    .dataframe tbody tr th:only-of-type {\n        vertical-align: middle;\n    }\n\n    .dataframe tbody tr th {\n        vertical-align: top;\n    }\n\n    .dataframe thead th {\n        text-align: right;\n    }\n</style>\n<table border=\"1\" class=\"dataframe\">\n  <thead>\n    <tr style=\"text-align: right;\">\n      <th></th>\n      <th>rok</th>\n      <th>regionalne</th>\n    </tr>\n  </thead>\n  <tbody>\n    <tr>\n      <th>0</th>\n      <td>2001</td>\n      <td>45065</td>\n    </tr>\n    <tr>\n      <th>1</th>\n      <td>2001</td>\n      <td>43933</td>\n    </tr>\n    <tr>\n      <th>2</th>\n      <td>2001</td>\n      <td>46663</td>\n    </tr>\n    <tr>\n      <th>3</th>\n      <td>2001</td>\n      <td>45195</td>\n    </tr>\n    <tr>\n      <th>4</th>\n      <td>2001</td>\n      <td>47926</td>\n    </tr>\n  </tbody>\n</table>\n</div>"
     },
     "execution_count": 2,
     "metadata": {},
     "output_type": "execute_result"
    }
   ],
   "source": [
    "df = pd.read_csv('napoje.csv', sep=';', usecols=['rok', 'regionalne'])\n",
    "df.head()"
   ],
   "metadata": {
    "collapsed": false
   }
  },
  {
   "cell_type": "code",
   "execution_count": 3,
   "outputs": [],
   "source": [
    "df2001 = df[df['rok'] == 2001]\n",
    "df2015 = df[df['rok'] == 2015]"
   ],
   "metadata": {
    "collapsed": false
   }
  },
  {
   "cell_type": "code",
   "execution_count": 6,
   "outputs": [
    {
     "data": {
      "text/plain": "0     45065\n1     43933\n2     46663\n3     45195\n4     47926\n5     42821\n6     41719\n7     45433\n8     45392\n9     47166\n10    47794\n11    50156\nName: regionalne, dtype: int64"
     },
     "execution_count": 6,
     "metadata": {},
     "output_type": "execute_result"
    }
   ],
   "source": [
    "df2001 = df2001['regionalne']\n",
    "df2001"
   ],
   "metadata": {
    "collapsed": false
   }
  },
  {
   "cell_type": "code",
   "execution_count": 7,
   "outputs": [
    {
     "data": {
      "text/plain": "168    53735\n169    51911\n170    56495\n171    49805\n172    60818\n173    49150\n174    45002\n175    40573\n176    49077\n177    58483\n178    59886\n179    59525\nName: regionalne, dtype: int64"
     },
     "execution_count": 7,
     "metadata": {},
     "output_type": "execute_result"
    }
   ],
   "source": [
    "df2015 = df2015['regionalne']\n",
    "df2015"
   ],
   "metadata": {
    "collapsed": false
   }
  },
  {
   "cell_type": "code",
   "execution_count": 8,
   "outputs": [
    {
     "data": {
      "text/plain": "Ttest_relResult(statistic=-4.981131079425873, pvalue=0.00041469788280755834)"
     },
     "execution_count": 8,
     "metadata": {},
     "output_type": "execute_result"
    }
   ],
   "source": [
    "ttest_rel(df2001, df2015)"
   ],
   "metadata": {
    "collapsed": false
   }
  },
  {
   "cell_type": "markdown",
   "source": [
    "Średnie tych zmienych (które uznałem za zależne) nie są równe"
   ],
   "metadata": {
    "collapsed": false
   }
  }
 ],
 "metadata": {
  "kernelspec": {
   "display_name": "Python 3",
   "language": "python",
   "name": "python3"
  },
  "language_info": {
   "codemirror_mode": {
    "name": "ipython",
    "version": 2
   },
   "file_extension": ".py",
   "mimetype": "text/x-python",
   "name": "python",
   "nbconvert_exporter": "python",
   "pygments_lexer": "ipython2",
   "version": "2.7.6"
  }
 },
 "nbformat": 4,
 "nbformat_minor": 0
}
