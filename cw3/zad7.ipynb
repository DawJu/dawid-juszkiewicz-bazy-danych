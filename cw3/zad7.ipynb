{
 "cells": [
  {
   "cell_type": "code",
   "execution_count": 1,
   "metadata": {
    "collapsed": true
   },
   "outputs": [],
   "source": [
    "from scipy.stats import ttest_rel\n",
    "import pandas as pd"
   ]
  },
  {
   "cell_type": "code",
   "execution_count": 5,
   "outputs": [
    {
     "data": {
      "text/plain": "      pepsi  fanta    cola\n180  102040  39116  228359\n181  109322  38667  231114\n182  108039  48108  199815\n183  113002  41721  221944\n184  109590  48840  219085\n185  105666  41023  235575\n186  111811  39667  223126\n187  105949  43017  222531\n188  103420  44310  230270\n189  120363  50688  247155\n190  101215  41924  240524\n191  114300  42314  223129",
      "text/html": "<div>\n<style scoped>\n    .dataframe tbody tr th:only-of-type {\n        vertical-align: middle;\n    }\n\n    .dataframe tbody tr th {\n        vertical-align: top;\n    }\n\n    .dataframe thead th {\n        text-align: right;\n    }\n</style>\n<table border=\"1\" class=\"dataframe\">\n  <thead>\n    <tr style=\"text-align: right;\">\n      <th></th>\n      <th>pepsi</th>\n      <th>fanta</th>\n      <th>cola</th>\n    </tr>\n  </thead>\n  <tbody>\n    <tr>\n      <th>180</th>\n      <td>102040</td>\n      <td>39116</td>\n      <td>228359</td>\n    </tr>\n    <tr>\n      <th>181</th>\n      <td>109322</td>\n      <td>38667</td>\n      <td>231114</td>\n    </tr>\n    <tr>\n      <th>182</th>\n      <td>108039</td>\n      <td>48108</td>\n      <td>199815</td>\n    </tr>\n    <tr>\n      <th>183</th>\n      <td>113002</td>\n      <td>41721</td>\n      <td>221944</td>\n    </tr>\n    <tr>\n      <th>184</th>\n      <td>109590</td>\n      <td>48840</td>\n      <td>219085</td>\n    </tr>\n    <tr>\n      <th>185</th>\n      <td>105666</td>\n      <td>41023</td>\n      <td>235575</td>\n    </tr>\n    <tr>\n      <th>186</th>\n      <td>111811</td>\n      <td>39667</td>\n      <td>223126</td>\n    </tr>\n    <tr>\n      <th>187</th>\n      <td>105949</td>\n      <td>43017</td>\n      <td>222531</td>\n    </tr>\n    <tr>\n      <th>188</th>\n      <td>103420</td>\n      <td>44310</td>\n      <td>230270</td>\n    </tr>\n    <tr>\n      <th>189</th>\n      <td>120363</td>\n      <td>50688</td>\n      <td>247155</td>\n    </tr>\n    <tr>\n      <th>190</th>\n      <td>101215</td>\n      <td>41924</td>\n      <td>240524</td>\n    </tr>\n    <tr>\n      <th>191</th>\n      <td>114300</td>\n      <td>42314</td>\n      <td>223129</td>\n    </tr>\n  </tbody>\n</table>\n</div>"
     },
     "execution_count": 5,
     "metadata": {},
     "output_type": "execute_result"
    }
   ],
   "source": [
    "df1 = pd.read_csv('napoje.csv', sep=';', usecols=['rok', 'cola', 'fanta ', 'pepsi'])\n",
    "df1.rename(columns={'fanta ': 'fanta'}, inplace=True)\n",
    "df1 = df1[df1['rok'] == 2016]\n",
    "df1 = df1.drop('rok', axis=1)\n",
    "df1"
   ],
   "metadata": {
    "collapsed": false
   }
  },
  {
   "cell_type": "code",
   "execution_count": 7,
   "outputs": [
    {
     "data": {
      "text/plain": "     pepsi  fanta    cola\n0   119110  41386  215468\n1   107424  45669  233941\n2   105748  47373  229677\n3   115377  39395  234246\n4   103003  42477  219392\n5   102809  47224  219600\n6   106890  45185  225857\n7   103613  38748  226311\n8   112709  34145  232491\n9   112780  37407  235802\n10  113206  51504  221554\n11  107777  41005  223153",
      "text/html": "<div>\n<style scoped>\n    .dataframe tbody tr th:only-of-type {\n        vertical-align: middle;\n    }\n\n    .dataframe tbody tr th {\n        vertical-align: top;\n    }\n\n    .dataframe thead th {\n        text-align: right;\n    }\n</style>\n<table border=\"1\" class=\"dataframe\">\n  <thead>\n    <tr style=\"text-align: right;\">\n      <th></th>\n      <th>pepsi</th>\n      <th>fanta</th>\n      <th>cola</th>\n    </tr>\n  </thead>\n  <tbody>\n    <tr>\n      <th>0</th>\n      <td>119110</td>\n      <td>41386</td>\n      <td>215468</td>\n    </tr>\n    <tr>\n      <th>1</th>\n      <td>107424</td>\n      <td>45669</td>\n      <td>233941</td>\n    </tr>\n    <tr>\n      <th>2</th>\n      <td>105748</td>\n      <td>47373</td>\n      <td>229677</td>\n    </tr>\n    <tr>\n      <th>3</th>\n      <td>115377</td>\n      <td>39395</td>\n      <td>234246</td>\n    </tr>\n    <tr>\n      <th>4</th>\n      <td>103003</td>\n      <td>42477</td>\n      <td>219392</td>\n    </tr>\n    <tr>\n      <th>5</th>\n      <td>102809</td>\n      <td>47224</td>\n      <td>219600</td>\n    </tr>\n    <tr>\n      <th>6</th>\n      <td>106890</td>\n      <td>45185</td>\n      <td>225857</td>\n    </tr>\n    <tr>\n      <th>7</th>\n      <td>103613</td>\n      <td>38748</td>\n      <td>226311</td>\n    </tr>\n    <tr>\n      <th>8</th>\n      <td>112709</td>\n      <td>34145</td>\n      <td>232491</td>\n    </tr>\n    <tr>\n      <th>9</th>\n      <td>112780</td>\n      <td>37407</td>\n      <td>235802</td>\n    </tr>\n    <tr>\n      <th>10</th>\n      <td>113206</td>\n      <td>51504</td>\n      <td>221554</td>\n    </tr>\n    <tr>\n      <th>11</th>\n      <td>107777</td>\n      <td>41005</td>\n      <td>223153</td>\n    </tr>\n  </tbody>\n</table>\n</div>"
     },
     "execution_count": 7,
     "metadata": {},
     "output_type": "execute_result"
    }
   ],
   "source": [
    "df2 = pd.read_csv('napoje_po_reklamie.csv', sep=';', usecols=['cola', 'fanta ', 'pepsi'])\n",
    "df2.rename(columns={'fanta ': 'fanta'}, inplace=True)\n",
    "df2"
   ],
   "metadata": {
    "collapsed": false
   }
  },
  {
   "cell_type": "code",
   "execution_count": 8,
   "outputs": [
    {
     "data": {
      "text/plain": "Ttest_relResult(statistic=0.11032676911481809, pvalue=0.9141373808316627)"
     },
     "execution_count": 8,
     "metadata": {},
     "output_type": "execute_result"
    }
   ],
   "source": [
    "ttest_rel(df1['cola'], df2['cola'])"
   ],
   "metadata": {
    "collapsed": false
   }
  },
  {
   "cell_type": "code",
   "execution_count": 9,
   "outputs": [
    {
     "data": {
      "text/plain": "Ttest_relResult(statistic=0.3199018672121306, pvalue=0.7550366759257837)"
     },
     "execution_count": 9,
     "metadata": {},
     "output_type": "execute_result"
    }
   ],
   "source": [
    "ttest_rel(df1['fanta'], df2['fanta'])"
   ],
   "metadata": {
    "collapsed": false
   }
  },
  {
   "cell_type": "code",
   "execution_count": 10,
   "outputs": [
    {
     "data": {
      "text/plain": "Ttest_relResult(statistic=-0.20520478240138976, pvalue=0.8411601080767367)"
     },
     "execution_count": 10,
     "metadata": {},
     "output_type": "execute_result"
    }
   ],
   "source": [
    "ttest_rel(df1['pepsi'], df2['pepsi'])"
   ],
   "metadata": {
    "collapsed": false
   }
  },
  {
   "cell_type": "markdown",
   "source": [
    "Można przyjąć, że średnie dla wszystkich tych par są równe"
   ],
   "metadata": {
    "collapsed": false
   }
  }
 ],
 "metadata": {
  "kernelspec": {
   "display_name": "Python 3",
   "language": "python",
   "name": "python3"
  },
  "language_info": {
   "codemirror_mode": {
    "name": "ipython",
    "version": 2
   },
   "file_extension": ".py",
   "mimetype": "text/x-python",
   "name": "python",
   "nbconvert_exporter": "python",
   "pygments_lexer": "ipython2",
   "version": "2.7.6"
  }
 },
 "nbformat": 4,
 "nbformat_minor": 0
}
