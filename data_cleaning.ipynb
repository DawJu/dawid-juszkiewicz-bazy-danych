{
 "cells": [
  {
   "cell_type": "code",
   "execution_count": 1,
   "metadata": {
    "collapsed": true
   },
   "outputs": [],
   "source": [
    "import pandas as pd"
   ]
  },
  {
   "cell_type": "code",
   "execution_count": 7,
   "outputs": [],
   "source": [
    "df_loc = pd.read_csv('data/locations.csv')"
   ],
   "metadata": {
    "collapsed": false
   }
  },
  {
   "cell_type": "code",
   "execution_count": 8,
   "outputs": [
    {
     "data": {
      "text/plain": "    latitude  longitude  elevation  utc_offset_seconds       timezone  \\\n0  53.800003  20.500000      133.0                3600  Europe/Warsaw   \n1  52.199997  21.000000      113.0                3600  Europe/Warsaw   \n2  51.500000  -0.099991       27.0                   0  Europe/London   \n\n  timezone_abbreviation  \n0                   CET  \n1                   CET  \n2                   GMT  ",
      "text/html": "<div>\n<style scoped>\n    .dataframe tbody tr th:only-of-type {\n        vertical-align: middle;\n    }\n\n    .dataframe tbody tr th {\n        vertical-align: top;\n    }\n\n    .dataframe thead th {\n        text-align: right;\n    }\n</style>\n<table border=\"1\" class=\"dataframe\">\n  <thead>\n    <tr style=\"text-align: right;\">\n      <th></th>\n      <th>latitude</th>\n      <th>longitude</th>\n      <th>elevation</th>\n      <th>utc_offset_seconds</th>\n      <th>timezone</th>\n      <th>timezone_abbreviation</th>\n    </tr>\n  </thead>\n  <tbody>\n    <tr>\n      <th>0</th>\n      <td>53.800003</td>\n      <td>20.500000</td>\n      <td>133.0</td>\n      <td>3600</td>\n      <td>Europe/Warsaw</td>\n      <td>CET</td>\n    </tr>\n    <tr>\n      <th>1</th>\n      <td>52.199997</td>\n      <td>21.000000</td>\n      <td>113.0</td>\n      <td>3600</td>\n      <td>Europe/Warsaw</td>\n      <td>CET</td>\n    </tr>\n    <tr>\n      <th>2</th>\n      <td>51.500000</td>\n      <td>-0.099991</td>\n      <td>27.0</td>\n      <td>0</td>\n      <td>Europe/London</td>\n      <td>GMT</td>\n    </tr>\n  </tbody>\n</table>\n</div>"
     },
     "execution_count": 8,
     "metadata": {},
     "output_type": "execute_result"
    }
   ],
   "source": [
    "df_loc.head()"
   ],
   "metadata": {
    "collapsed": false
   }
  },
  {
   "cell_type": "code",
   "execution_count": 9,
   "outputs": [
    {
     "data": {
      "text/plain": "       name   latitude  longitude  elevation  utc_offset_seconds  \\\n0   Olsztyn  53.800003  20.500000      133.0                3600   \n1  Warszawa  52.199997  21.000000      113.0                3600   \n2    Londyn  51.500000  -0.099991       27.0                   0   \n\n        timezone timezone_abbreviation  \n0  Europe/Warsaw                   CET  \n1  Europe/Warsaw                   CET  \n2  Europe/London                   GMT  ",
      "text/html": "<div>\n<style scoped>\n    .dataframe tbody tr th:only-of-type {\n        vertical-align: middle;\n    }\n\n    .dataframe tbody tr th {\n        vertical-align: top;\n    }\n\n    .dataframe thead th {\n        text-align: right;\n    }\n</style>\n<table border=\"1\" class=\"dataframe\">\n  <thead>\n    <tr style=\"text-align: right;\">\n      <th></th>\n      <th>name</th>\n      <th>latitude</th>\n      <th>longitude</th>\n      <th>elevation</th>\n      <th>utc_offset_seconds</th>\n      <th>timezone</th>\n      <th>timezone_abbreviation</th>\n    </tr>\n  </thead>\n  <tbody>\n    <tr>\n      <th>0</th>\n      <td>Olsztyn</td>\n      <td>53.800003</td>\n      <td>20.500000</td>\n      <td>133.0</td>\n      <td>3600</td>\n      <td>Europe/Warsaw</td>\n      <td>CET</td>\n    </tr>\n    <tr>\n      <th>1</th>\n      <td>Warszawa</td>\n      <td>52.199997</td>\n      <td>21.000000</td>\n      <td>113.0</td>\n      <td>3600</td>\n      <td>Europe/Warsaw</td>\n      <td>CET</td>\n    </tr>\n    <tr>\n      <th>2</th>\n      <td>Londyn</td>\n      <td>51.500000</td>\n      <td>-0.099991</td>\n      <td>27.0</td>\n      <td>0</td>\n      <td>Europe/London</td>\n      <td>GMT</td>\n    </tr>\n  </tbody>\n</table>\n</div>"
     },
     "execution_count": 9,
     "metadata": {},
     "output_type": "execute_result"
    }
   ],
   "source": [
    "names = ['Olsztyn', 'Warszawa', 'Londyn']\n",
    "df_loc.insert(0, 'name', names)\n",
    "df_loc.head()"
   ],
   "metadata": {
    "collapsed": false
   }
  },
  {
   "cell_type": "code",
   "execution_count": 12,
   "outputs": [],
   "source": [
    "df_loc.to_csv('data/locations2.csv', index=False)"
   ],
   "metadata": {
    "collapsed": false
   }
  },
  {
   "cell_type": "code",
   "execution_count": 17,
   "outputs": [],
   "source": [
    "d_ols = pd.read_csv('data/daily_olsztyn.csv')\n",
    "d_war = pd.read_csv('data/daily_warszawa.csv')\n",
    "d_lon = pd.read_csv('data/daily_londyn.csv')"
   ],
   "metadata": {
    "collapsed": false
   }
  },
  {
   "cell_type": "code",
   "execution_count": 16,
   "outputs": [
    {
     "data": {
      "text/plain": "         time  weathercode (wmo code)  temperature_2m_max (Â°C)  \\\n0  2022-10-01                      53                      14.8   \n1  2022-10-02                      61                      13.2   \n2  2022-10-03                      53                      12.3   \n3  2022-10-04                      51                      13.5   \n4  2022-10-05                       3                      15.7   \n\n   temperature_2m_min (Â°C)  rain_sum (mm)  snowfall_sum (cm)  \\\n0                       7.2            3.4                0.0   \n1                       9.4            4.5                0.0   \n2                       8.9            1.6                0.0   \n3                       8.8            0.8                0.0   \n4                       9.2            0.0                0.0   \n\n   windspeed_10m_max (km/h)  winddirection_10m_dominant (Â°)  \n0                      17.7                              268  \n1                      22.4                              188  \n2                      31.6                              133  \n3                      26.3                              146  \n4                      20.2                              226  ",
      "text/html": "<div>\n<style scoped>\n    .dataframe tbody tr th:only-of-type {\n        vertical-align: middle;\n    }\n\n    .dataframe tbody tr th {\n        vertical-align: top;\n    }\n\n    .dataframe thead th {\n        text-align: right;\n    }\n</style>\n<table border=\"1\" class=\"dataframe\">\n  <thead>\n    <tr style=\"text-align: right;\">\n      <th></th>\n      <th>time</th>\n      <th>weathercode (wmo code)</th>\n      <th>temperature_2m_max (Â°C)</th>\n      <th>temperature_2m_min (Â°C)</th>\n      <th>rain_sum (mm)</th>\n      <th>snowfall_sum (cm)</th>\n      <th>windspeed_10m_max (km/h)</th>\n      <th>winddirection_10m_dominant (Â°)</th>\n    </tr>\n  </thead>\n  <tbody>\n    <tr>\n      <th>0</th>\n      <td>2022-10-01</td>\n      <td>53</td>\n      <td>14.8</td>\n      <td>7.2</td>\n      <td>3.4</td>\n      <td>0.0</td>\n      <td>17.7</td>\n      <td>268</td>\n    </tr>\n    <tr>\n      <th>1</th>\n      <td>2022-10-02</td>\n      <td>61</td>\n      <td>13.2</td>\n      <td>9.4</td>\n      <td>4.5</td>\n      <td>0.0</td>\n      <td>22.4</td>\n      <td>188</td>\n    </tr>\n    <tr>\n      <th>2</th>\n      <td>2022-10-03</td>\n      <td>53</td>\n      <td>12.3</td>\n      <td>8.9</td>\n      <td>1.6</td>\n      <td>0.0</td>\n      <td>31.6</td>\n      <td>133</td>\n    </tr>\n    <tr>\n      <th>3</th>\n      <td>2022-10-04</td>\n      <td>51</td>\n      <td>13.5</td>\n      <td>8.8</td>\n      <td>0.8</td>\n      <td>0.0</td>\n      <td>26.3</td>\n      <td>146</td>\n    </tr>\n    <tr>\n      <th>4</th>\n      <td>2022-10-05</td>\n      <td>3</td>\n      <td>15.7</td>\n      <td>9.2</td>\n      <td>0.0</td>\n      <td>0.0</td>\n      <td>20.2</td>\n      <td>226</td>\n    </tr>\n  </tbody>\n</table>\n</div>"
     },
     "execution_count": 16,
     "metadata": {},
     "output_type": "execute_result"
    }
   ],
   "source": [
    "d_ols.head()"
   ],
   "metadata": {
    "collapsed": false
   }
  },
  {
   "cell_type": "code",
   "execution_count": 20,
   "outputs": [
    {
     "data": {
      "text/plain": "         date  weathercode  temperature_max  temperature_min  rain_sum  \\\n0  2022-10-01           53             14.8              7.2       3.4   \n1  2022-10-02           61             13.2              9.4       4.5   \n2  2022-10-03           53             12.3              8.9       1.6   \n3  2022-10-04           51             13.5              8.8       0.8   \n4  2022-10-05            3             15.7              9.2       0.0   \n\n   snowfall_sum  windspeed_max  winddirection_dominant  \n0           0.0           17.7                     268  \n1           0.0           22.4                     188  \n2           0.0           31.6                     133  \n3           0.0           26.3                     146  \n4           0.0           20.2                     226  ",
      "text/html": "<div>\n<style scoped>\n    .dataframe tbody tr th:only-of-type {\n        vertical-align: middle;\n    }\n\n    .dataframe tbody tr th {\n        vertical-align: top;\n    }\n\n    .dataframe thead th {\n        text-align: right;\n    }\n</style>\n<table border=\"1\" class=\"dataframe\">\n  <thead>\n    <tr style=\"text-align: right;\">\n      <th></th>\n      <th>date</th>\n      <th>weathercode</th>\n      <th>temperature_max</th>\n      <th>temperature_min</th>\n      <th>rain_sum</th>\n      <th>snowfall_sum</th>\n      <th>windspeed_max</th>\n      <th>winddirection_dominant</th>\n    </tr>\n  </thead>\n  <tbody>\n    <tr>\n      <th>0</th>\n      <td>2022-10-01</td>\n      <td>53</td>\n      <td>14.8</td>\n      <td>7.2</td>\n      <td>3.4</td>\n      <td>0.0</td>\n      <td>17.7</td>\n      <td>268</td>\n    </tr>\n    <tr>\n      <th>1</th>\n      <td>2022-10-02</td>\n      <td>61</td>\n      <td>13.2</td>\n      <td>9.4</td>\n      <td>4.5</td>\n      <td>0.0</td>\n      <td>22.4</td>\n      <td>188</td>\n    </tr>\n    <tr>\n      <th>2</th>\n      <td>2022-10-03</td>\n      <td>53</td>\n      <td>12.3</td>\n      <td>8.9</td>\n      <td>1.6</td>\n      <td>0.0</td>\n      <td>31.6</td>\n      <td>133</td>\n    </tr>\n    <tr>\n      <th>3</th>\n      <td>2022-10-04</td>\n      <td>51</td>\n      <td>13.5</td>\n      <td>8.8</td>\n      <td>0.8</td>\n      <td>0.0</td>\n      <td>26.3</td>\n      <td>146</td>\n    </tr>\n    <tr>\n      <th>4</th>\n      <td>2022-10-05</td>\n      <td>3</td>\n      <td>15.7</td>\n      <td>9.2</td>\n      <td>0.0</td>\n      <td>0.0</td>\n      <td>20.2</td>\n      <td>226</td>\n    </tr>\n  </tbody>\n</table>\n</div>"
     },
     "execution_count": 20,
     "metadata": {},
     "output_type": "execute_result"
    }
   ],
   "source": [
    "col_names = ['date', 'weathercode', 'temperature_max', 'temperature_min', 'rain_sum', 'snowfall_sum', 'windspeed_max', 'winddirection_dominant']\n",
    "d_ols.columns = col_names\n",
    "d_war.columns = col_names\n",
    "d_lon.columns = col_names\n",
    "d_ols.head()"
   ],
   "metadata": {
    "collapsed": false
   }
  },
  {
   "cell_type": "code",
   "execution_count": 22,
   "outputs": [],
   "source": [
    "d_ols.insert(0, 'location', 'Olsztyn')\n",
    "d_war.insert(0, 'location', 'Warszawa')\n",
    "d_lon.insert(0, 'location', 'Londyn')"
   ],
   "metadata": {
    "collapsed": false
   }
  },
  {
   "cell_type": "code",
   "execution_count": 24,
   "outputs": [
    {
     "data": {
      "text/plain": "(104, 104, 104)"
     },
     "execution_count": 24,
     "metadata": {},
     "output_type": "execute_result"
    }
   ],
   "source": [
    "d_ols.shape[0], d_war.shape[0], d_lon.shape[0]"
   ],
   "metadata": {
    "collapsed": false
   }
  },
  {
   "cell_type": "code",
   "execution_count": 26,
   "outputs": [
    {
     "data": {
      "text/plain": "  location        date  weathercode  temperature_max  temperature_min  \\\n0  Olsztyn  2022-10-01           53             14.8              7.2   \n1  Olsztyn  2022-10-02           61             13.2              9.4   \n2  Olsztyn  2022-10-03           53             12.3              8.9   \n3  Olsztyn  2022-10-04           51             13.5              8.8   \n4  Olsztyn  2022-10-05            3             15.7              9.2   \n\n   rain_sum  snowfall_sum  windspeed_max  winddirection_dominant  \n0       3.4           0.0           17.7                     268  \n1       4.5           0.0           22.4                     188  \n2       1.6           0.0           31.6                     133  \n3       0.8           0.0           26.3                     146  \n4       0.0           0.0           20.2                     226  ",
      "text/html": "<div>\n<style scoped>\n    .dataframe tbody tr th:only-of-type {\n        vertical-align: middle;\n    }\n\n    .dataframe tbody tr th {\n        vertical-align: top;\n    }\n\n    .dataframe thead th {\n        text-align: right;\n    }\n</style>\n<table border=\"1\" class=\"dataframe\">\n  <thead>\n    <tr style=\"text-align: right;\">\n      <th></th>\n      <th>location</th>\n      <th>date</th>\n      <th>weathercode</th>\n      <th>temperature_max</th>\n      <th>temperature_min</th>\n      <th>rain_sum</th>\n      <th>snowfall_sum</th>\n      <th>windspeed_max</th>\n      <th>winddirection_dominant</th>\n    </tr>\n  </thead>\n  <tbody>\n    <tr>\n      <th>0</th>\n      <td>Olsztyn</td>\n      <td>2022-10-01</td>\n      <td>53</td>\n      <td>14.8</td>\n      <td>7.2</td>\n      <td>3.4</td>\n      <td>0.0</td>\n      <td>17.7</td>\n      <td>268</td>\n    </tr>\n    <tr>\n      <th>1</th>\n      <td>Olsztyn</td>\n      <td>2022-10-02</td>\n      <td>61</td>\n      <td>13.2</td>\n      <td>9.4</td>\n      <td>4.5</td>\n      <td>0.0</td>\n      <td>22.4</td>\n      <td>188</td>\n    </tr>\n    <tr>\n      <th>2</th>\n      <td>Olsztyn</td>\n      <td>2022-10-03</td>\n      <td>53</td>\n      <td>12.3</td>\n      <td>8.9</td>\n      <td>1.6</td>\n      <td>0.0</td>\n      <td>31.6</td>\n      <td>133</td>\n    </tr>\n    <tr>\n      <th>3</th>\n      <td>Olsztyn</td>\n      <td>2022-10-04</td>\n      <td>51</td>\n      <td>13.5</td>\n      <td>8.8</td>\n      <td>0.8</td>\n      <td>0.0</td>\n      <td>26.3</td>\n      <td>146</td>\n    </tr>\n    <tr>\n      <th>4</th>\n      <td>Olsztyn</td>\n      <td>2022-10-05</td>\n      <td>3</td>\n      <td>15.7</td>\n      <td>9.2</td>\n      <td>0.0</td>\n      <td>0.0</td>\n      <td>20.2</td>\n      <td>226</td>\n    </tr>\n  </tbody>\n</table>\n</div>"
     },
     "execution_count": 26,
     "metadata": {},
     "output_type": "execute_result"
    }
   ],
   "source": [
    "daily = [d_ols, d_war, d_lon]\n",
    "df_daily = pd.concat(daily, ignore_index=True)\n",
    "df_daily.head()"
   ],
   "metadata": {
    "collapsed": false
   }
  },
  {
   "cell_type": "code",
   "execution_count": 27,
   "outputs": [
    {
     "data": {
      "text/plain": "312"
     },
     "execution_count": 27,
     "metadata": {},
     "output_type": "execute_result"
    }
   ],
   "source": [
    "df_daily.shape[0]"
   ],
   "metadata": {
    "collapsed": false
   }
  },
  {
   "cell_type": "code",
   "execution_count": 28,
   "outputs": [],
   "source": [
    "df_daily.to_csv('data/daily_data.csv', index=False)"
   ],
   "metadata": {
    "collapsed": false
   }
  },
  {
   "cell_type": "code",
   "execution_count": 53,
   "outputs": [],
   "source": [
    "h_ols = pd.read_csv('data/pre_cleaning/hourly_olsztyn.csv')\n",
    "h_war = pd.read_csv('data/pre_cleaning/hourly_warszawa.csv')\n",
    "h_lon = pd.read_csv('data/pre_cleaning/hourly_londyn.csv')"
   ],
   "metadata": {
    "collapsed": false
   }
  },
  {
   "cell_type": "code",
   "execution_count": 54,
   "outputs": [
    {
     "data": {
      "text/plain": "               time  temperature_2m (Â°C)  relativehumidity_2m (%)  rain (mm)  \\\n0  2022-10-01T00:00                   9.3                       81        0.0   \n1  2022-10-01T01:00                   9.2                       82        0.0   \n2  2022-10-01T02:00                   9.2                       83        0.0   \n3  2022-10-01T03:00                   8.9                       86        0.0   \n4  2022-10-01T04:00                   8.4                       89        0.0   \n\n   snowfall (cm)  weathercode (wmo code)  windspeed_10m (km/h)  \\\n0            0.0                       1                   7.3   \n1            0.0                       2                   6.6   \n2            0.0                       3                   6.5   \n3            0.0                       3                   7.3   \n4            0.0                       2                   8.7   \n\n   winddirection_10m (Â°)  \n0                     259  \n1                     257  \n2                     251  \n3                     250  \n4                     253  ",
      "text/html": "<div>\n<style scoped>\n    .dataframe tbody tr th:only-of-type {\n        vertical-align: middle;\n    }\n\n    .dataframe tbody tr th {\n        vertical-align: top;\n    }\n\n    .dataframe thead th {\n        text-align: right;\n    }\n</style>\n<table border=\"1\" class=\"dataframe\">\n  <thead>\n    <tr style=\"text-align: right;\">\n      <th></th>\n      <th>time</th>\n      <th>temperature_2m (Â°C)</th>\n      <th>relativehumidity_2m (%)</th>\n      <th>rain (mm)</th>\n      <th>snowfall (cm)</th>\n      <th>weathercode (wmo code)</th>\n      <th>windspeed_10m (km/h)</th>\n      <th>winddirection_10m (Â°)</th>\n    </tr>\n  </thead>\n  <tbody>\n    <tr>\n      <th>0</th>\n      <td>2022-10-01T00:00</td>\n      <td>9.3</td>\n      <td>81</td>\n      <td>0.0</td>\n      <td>0.0</td>\n      <td>1</td>\n      <td>7.3</td>\n      <td>259</td>\n    </tr>\n    <tr>\n      <th>1</th>\n      <td>2022-10-01T01:00</td>\n      <td>9.2</td>\n      <td>82</td>\n      <td>0.0</td>\n      <td>0.0</td>\n      <td>2</td>\n      <td>6.6</td>\n      <td>257</td>\n    </tr>\n    <tr>\n      <th>2</th>\n      <td>2022-10-01T02:00</td>\n      <td>9.2</td>\n      <td>83</td>\n      <td>0.0</td>\n      <td>0.0</td>\n      <td>3</td>\n      <td>6.5</td>\n      <td>251</td>\n    </tr>\n    <tr>\n      <th>3</th>\n      <td>2022-10-01T03:00</td>\n      <td>8.9</td>\n      <td>86</td>\n      <td>0.0</td>\n      <td>0.0</td>\n      <td>3</td>\n      <td>7.3</td>\n      <td>250</td>\n    </tr>\n    <tr>\n      <th>4</th>\n      <td>2022-10-01T04:00</td>\n      <td>8.4</td>\n      <td>89</td>\n      <td>0.0</td>\n      <td>0.0</td>\n      <td>2</td>\n      <td>8.7</td>\n      <td>253</td>\n    </tr>\n  </tbody>\n</table>\n</div>"
     },
     "execution_count": 54,
     "metadata": {},
     "output_type": "execute_result"
    }
   ],
   "source": [
    "h_ols.head()"
   ],
   "metadata": {
    "collapsed": false
   }
  },
  {
   "cell_type": "code",
   "execution_count": 55,
   "outputs": [
    {
     "data": {
      "text/plain": "               date  temperature  relative_humidity  rain  snowfall  \\\n0  2022-10-01T00:00          9.3                 81   0.0       0.0   \n1  2022-10-01T01:00          9.2                 82   0.0       0.0   \n2  2022-10-01T02:00          9.2                 83   0.0       0.0   \n3  2022-10-01T03:00          8.9                 86   0.0       0.0   \n4  2022-10-01T04:00          8.4                 89   0.0       0.0   \n\n   weathercode  wind_speed  wind_direction  \n0            1         7.3             259  \n1            2         6.6             257  \n2            3         6.5             251  \n3            3         7.3             250  \n4            2         8.7             253  ",
      "text/html": "<div>\n<style scoped>\n    .dataframe tbody tr th:only-of-type {\n        vertical-align: middle;\n    }\n\n    .dataframe tbody tr th {\n        vertical-align: top;\n    }\n\n    .dataframe thead th {\n        text-align: right;\n    }\n</style>\n<table border=\"1\" class=\"dataframe\">\n  <thead>\n    <tr style=\"text-align: right;\">\n      <th></th>\n      <th>date</th>\n      <th>temperature</th>\n      <th>relative_humidity</th>\n      <th>rain</th>\n      <th>snowfall</th>\n      <th>weathercode</th>\n      <th>wind_speed</th>\n      <th>wind_direction</th>\n    </tr>\n  </thead>\n  <tbody>\n    <tr>\n      <th>0</th>\n      <td>2022-10-01T00:00</td>\n      <td>9.3</td>\n      <td>81</td>\n      <td>0.0</td>\n      <td>0.0</td>\n      <td>1</td>\n      <td>7.3</td>\n      <td>259</td>\n    </tr>\n    <tr>\n      <th>1</th>\n      <td>2022-10-01T01:00</td>\n      <td>9.2</td>\n      <td>82</td>\n      <td>0.0</td>\n      <td>0.0</td>\n      <td>2</td>\n      <td>6.6</td>\n      <td>257</td>\n    </tr>\n    <tr>\n      <th>2</th>\n      <td>2022-10-01T02:00</td>\n      <td>9.2</td>\n      <td>83</td>\n      <td>0.0</td>\n      <td>0.0</td>\n      <td>3</td>\n      <td>6.5</td>\n      <td>251</td>\n    </tr>\n    <tr>\n      <th>3</th>\n      <td>2022-10-01T03:00</td>\n      <td>8.9</td>\n      <td>86</td>\n      <td>0.0</td>\n      <td>0.0</td>\n      <td>3</td>\n      <td>7.3</td>\n      <td>250</td>\n    </tr>\n    <tr>\n      <th>4</th>\n      <td>2022-10-01T04:00</td>\n      <td>8.4</td>\n      <td>89</td>\n      <td>0.0</td>\n      <td>0.0</td>\n      <td>2</td>\n      <td>8.7</td>\n      <td>253</td>\n    </tr>\n  </tbody>\n</table>\n</div>"
     },
     "execution_count": 55,
     "metadata": {},
     "output_type": "execute_result"
    }
   ],
   "source": [
    "col_names = ['date', 'temperature', 'relative_humidity', 'rain', 'snowfall', 'weathercode', 'wind_speed', 'wind_direction']\n",
    "h_ols.columns = col_names\n",
    "h_war.columns = col_names\n",
    "h_lon.columns = col_names\n",
    "h_ols.head()"
   ],
   "metadata": {
    "collapsed": false
   }
  },
  {
   "cell_type": "code",
   "execution_count": 56,
   "outputs": [],
   "source": [
    "h_ols.insert(0, 'location', 'Olsztyn')\n",
    "h_war.insert(0, 'location', 'Warszawa')\n",
    "h_lon.insert(0, 'location', 'Londyn')"
   ],
   "metadata": {
    "collapsed": false
   }
  },
  {
   "cell_type": "code",
   "execution_count": 57,
   "outputs": [
    {
     "data": {
      "text/plain": "(2496, 2496, 2496)"
     },
     "execution_count": 57,
     "metadata": {},
     "output_type": "execute_result"
    }
   ],
   "source": [
    "h_ols.shape[0], h_war.shape[0], h_lon.shape[0]"
   ],
   "metadata": {
    "collapsed": false
   }
  },
  {
   "cell_type": "code",
   "execution_count": 58,
   "outputs": [
    {
     "data": {
      "text/plain": "  location              date  temperature  relative_humidity  rain  snowfall  \\\n0  Olsztyn  2022-10-01T00:00          9.3                 81   0.0       0.0   \n1  Olsztyn  2022-10-01T01:00          9.2                 82   0.0       0.0   \n2  Olsztyn  2022-10-01T02:00          9.2                 83   0.0       0.0   \n3  Olsztyn  2022-10-01T03:00          8.9                 86   0.0       0.0   \n4  Olsztyn  2022-10-01T04:00          8.4                 89   0.0       0.0   \n\n   weathercode  wind_speed  wind_direction  \n0            1         7.3             259  \n1            2         6.6             257  \n2            3         6.5             251  \n3            3         7.3             250  \n4            2         8.7             253  ",
      "text/html": "<div>\n<style scoped>\n    .dataframe tbody tr th:only-of-type {\n        vertical-align: middle;\n    }\n\n    .dataframe tbody tr th {\n        vertical-align: top;\n    }\n\n    .dataframe thead th {\n        text-align: right;\n    }\n</style>\n<table border=\"1\" class=\"dataframe\">\n  <thead>\n    <tr style=\"text-align: right;\">\n      <th></th>\n      <th>location</th>\n      <th>date</th>\n      <th>temperature</th>\n      <th>relative_humidity</th>\n      <th>rain</th>\n      <th>snowfall</th>\n      <th>weathercode</th>\n      <th>wind_speed</th>\n      <th>wind_direction</th>\n    </tr>\n  </thead>\n  <tbody>\n    <tr>\n      <th>0</th>\n      <td>Olsztyn</td>\n      <td>2022-10-01T00:00</td>\n      <td>9.3</td>\n      <td>81</td>\n      <td>0.0</td>\n      <td>0.0</td>\n      <td>1</td>\n      <td>7.3</td>\n      <td>259</td>\n    </tr>\n    <tr>\n      <th>1</th>\n      <td>Olsztyn</td>\n      <td>2022-10-01T01:00</td>\n      <td>9.2</td>\n      <td>82</td>\n      <td>0.0</td>\n      <td>0.0</td>\n      <td>2</td>\n      <td>6.6</td>\n      <td>257</td>\n    </tr>\n    <tr>\n      <th>2</th>\n      <td>Olsztyn</td>\n      <td>2022-10-01T02:00</td>\n      <td>9.2</td>\n      <td>83</td>\n      <td>0.0</td>\n      <td>0.0</td>\n      <td>3</td>\n      <td>6.5</td>\n      <td>251</td>\n    </tr>\n    <tr>\n      <th>3</th>\n      <td>Olsztyn</td>\n      <td>2022-10-01T03:00</td>\n      <td>8.9</td>\n      <td>86</td>\n      <td>0.0</td>\n      <td>0.0</td>\n      <td>3</td>\n      <td>7.3</td>\n      <td>250</td>\n    </tr>\n    <tr>\n      <th>4</th>\n      <td>Olsztyn</td>\n      <td>2022-10-01T04:00</td>\n      <td>8.4</td>\n      <td>89</td>\n      <td>0.0</td>\n      <td>0.0</td>\n      <td>2</td>\n      <td>8.7</td>\n      <td>253</td>\n    </tr>\n  </tbody>\n</table>\n</div>"
     },
     "execution_count": 58,
     "metadata": {},
     "output_type": "execute_result"
    }
   ],
   "source": [
    "hourly = [h_ols, h_war, h_lon]\n",
    "df_hourly = pd.concat(hourly, ignore_index=True)\n",
    "df_hourly.head()"
   ],
   "metadata": {
    "collapsed": false
   }
  },
  {
   "cell_type": "code",
   "execution_count": 59,
   "outputs": [
    {
     "data": {
      "text/plain": "7488"
     },
     "execution_count": 59,
     "metadata": {},
     "output_type": "execute_result"
    }
   ],
   "source": [
    "df_hourly.shape[0]"
   ],
   "metadata": {
    "collapsed": false
   }
  },
  {
   "cell_type": "code",
   "execution_count": 60,
   "outputs": [
    {
     "data": {
      "text/plain": "location              object\ndate                  object\ntemperature          float64\nrelative_humidity      int64\nrain                 float64\nsnowfall             float64\nweathercode            int64\nwind_speed           float64\nwind_direction         int64\ndtype: object"
     },
     "execution_count": 60,
     "metadata": {},
     "output_type": "execute_result"
    }
   ],
   "source": [
    "df_hourly.dtypes"
   ],
   "metadata": {
    "collapsed": false
   }
  },
  {
   "cell_type": "code",
   "execution_count": 61,
   "outputs": [
    {
     "data": {
      "text/plain": "  location                date  temperature  relative_humidity  rain  \\\n0  Olsztyn 2022-10-01 00:00:00          9.3                 81   0.0   \n1  Olsztyn 2022-10-01 01:00:00          9.2                 82   0.0   \n2  Olsztyn 2022-10-01 02:00:00          9.2                 83   0.0   \n3  Olsztyn 2022-10-01 03:00:00          8.9                 86   0.0   \n4  Olsztyn 2022-10-01 04:00:00          8.4                 89   0.0   \n\n   snowfall  weathercode  wind_speed  wind_direction  \n0       0.0            1         7.3             259  \n1       0.0            2         6.6             257  \n2       0.0            3         6.5             251  \n3       0.0            3         7.3             250  \n4       0.0            2         8.7             253  ",
      "text/html": "<div>\n<style scoped>\n    .dataframe tbody tr th:only-of-type {\n        vertical-align: middle;\n    }\n\n    .dataframe tbody tr th {\n        vertical-align: top;\n    }\n\n    .dataframe thead th {\n        text-align: right;\n    }\n</style>\n<table border=\"1\" class=\"dataframe\">\n  <thead>\n    <tr style=\"text-align: right;\">\n      <th></th>\n      <th>location</th>\n      <th>date</th>\n      <th>temperature</th>\n      <th>relative_humidity</th>\n      <th>rain</th>\n      <th>snowfall</th>\n      <th>weathercode</th>\n      <th>wind_speed</th>\n      <th>wind_direction</th>\n    </tr>\n  </thead>\n  <tbody>\n    <tr>\n      <th>0</th>\n      <td>Olsztyn</td>\n      <td>2022-10-01 00:00:00</td>\n      <td>9.3</td>\n      <td>81</td>\n      <td>0.0</td>\n      <td>0.0</td>\n      <td>1</td>\n      <td>7.3</td>\n      <td>259</td>\n    </tr>\n    <tr>\n      <th>1</th>\n      <td>Olsztyn</td>\n      <td>2022-10-01 01:00:00</td>\n      <td>9.2</td>\n      <td>82</td>\n      <td>0.0</td>\n      <td>0.0</td>\n      <td>2</td>\n      <td>6.6</td>\n      <td>257</td>\n    </tr>\n    <tr>\n      <th>2</th>\n      <td>Olsztyn</td>\n      <td>2022-10-01 02:00:00</td>\n      <td>9.2</td>\n      <td>83</td>\n      <td>0.0</td>\n      <td>0.0</td>\n      <td>3</td>\n      <td>6.5</td>\n      <td>251</td>\n    </tr>\n    <tr>\n      <th>3</th>\n      <td>Olsztyn</td>\n      <td>2022-10-01 03:00:00</td>\n      <td>8.9</td>\n      <td>86</td>\n      <td>0.0</td>\n      <td>0.0</td>\n      <td>3</td>\n      <td>7.3</td>\n      <td>250</td>\n    </tr>\n    <tr>\n      <th>4</th>\n      <td>Olsztyn</td>\n      <td>2022-10-01 04:00:00</td>\n      <td>8.4</td>\n      <td>89</td>\n      <td>0.0</td>\n      <td>0.0</td>\n      <td>2</td>\n      <td>8.7</td>\n      <td>253</td>\n    </tr>\n  </tbody>\n</table>\n</div>"
     },
     "execution_count": 61,
     "metadata": {},
     "output_type": "execute_result"
    }
   ],
   "source": [
    "df_hourly['date'] = pd.to_datetime(df_hourly['date'])\n",
    "df_hourly.head()"
   ],
   "metadata": {
    "collapsed": false
   }
  },
  {
   "cell_type": "code",
   "execution_count": 62,
   "outputs": [
    {
     "data": {
      "text/plain": "  location        date  time  temperature  relative_humidity  rain  snowfall  \\\n0  Olsztyn  2022-10-01     0          9.3                 81   0.0       0.0   \n1  Olsztyn  2022-10-01     1          9.2                 82   0.0       0.0   \n2  Olsztyn  2022-10-01     2          9.2                 83   0.0       0.0   \n3  Olsztyn  2022-10-01     3          8.9                 86   0.0       0.0   \n4  Olsztyn  2022-10-01     4          8.4                 89   0.0       0.0   \n\n   weathercode  wind_speed  wind_direction  \n0            1         7.3             259  \n1            2         6.6             257  \n2            3         6.5             251  \n3            3         7.3             250  \n4            2         8.7             253  ",
      "text/html": "<div>\n<style scoped>\n    .dataframe tbody tr th:only-of-type {\n        vertical-align: middle;\n    }\n\n    .dataframe tbody tr th {\n        vertical-align: top;\n    }\n\n    .dataframe thead th {\n        text-align: right;\n    }\n</style>\n<table border=\"1\" class=\"dataframe\">\n  <thead>\n    <tr style=\"text-align: right;\">\n      <th></th>\n      <th>location</th>\n      <th>date</th>\n      <th>time</th>\n      <th>temperature</th>\n      <th>relative_humidity</th>\n      <th>rain</th>\n      <th>snowfall</th>\n      <th>weathercode</th>\n      <th>wind_speed</th>\n      <th>wind_direction</th>\n    </tr>\n  </thead>\n  <tbody>\n    <tr>\n      <th>0</th>\n      <td>Olsztyn</td>\n      <td>2022-10-01</td>\n      <td>0</td>\n      <td>9.3</td>\n      <td>81</td>\n      <td>0.0</td>\n      <td>0.0</td>\n      <td>1</td>\n      <td>7.3</td>\n      <td>259</td>\n    </tr>\n    <tr>\n      <th>1</th>\n      <td>Olsztyn</td>\n      <td>2022-10-01</td>\n      <td>1</td>\n      <td>9.2</td>\n      <td>82</td>\n      <td>0.0</td>\n      <td>0.0</td>\n      <td>2</td>\n      <td>6.6</td>\n      <td>257</td>\n    </tr>\n    <tr>\n      <th>2</th>\n      <td>Olsztyn</td>\n      <td>2022-10-01</td>\n      <td>2</td>\n      <td>9.2</td>\n      <td>83</td>\n      <td>0.0</td>\n      <td>0.0</td>\n      <td>3</td>\n      <td>6.5</td>\n      <td>251</td>\n    </tr>\n    <tr>\n      <th>3</th>\n      <td>Olsztyn</td>\n      <td>2022-10-01</td>\n      <td>3</td>\n      <td>8.9</td>\n      <td>86</td>\n      <td>0.0</td>\n      <td>0.0</td>\n      <td>3</td>\n      <td>7.3</td>\n      <td>250</td>\n    </tr>\n    <tr>\n      <th>4</th>\n      <td>Olsztyn</td>\n      <td>2022-10-01</td>\n      <td>4</td>\n      <td>8.4</td>\n      <td>89</td>\n      <td>0.0</td>\n      <td>0.0</td>\n      <td>2</td>\n      <td>8.7</td>\n      <td>253</td>\n    </tr>\n  </tbody>\n</table>\n</div>"
     },
     "execution_count": 62,
     "metadata": {},
     "output_type": "execute_result"
    }
   ],
   "source": [
    "df_hourly.insert(2, 'time', df_hourly['date'].dt.hour)\n",
    "df_hourly['date'] = df_hourly['date'].dt.date\n",
    "df_hourly.head()"
   ],
   "metadata": {
    "collapsed": false
   }
  },
  {
   "cell_type": "code",
   "execution_count": 63,
   "outputs": [],
   "source": [
    "df_hourly.to_csv('data/hourly_data.csv', index=False)"
   ],
   "metadata": {
    "collapsed": false
   }
  }
 ],
 "metadata": {
  "kernelspec": {
   "display_name": "Python 3",
   "language": "python",
   "name": "python3"
  },
  "language_info": {
   "codemirror_mode": {
    "name": "ipython",
    "version": 2
   },
   "file_extension": ".py",
   "mimetype": "text/x-python",
   "name": "python",
   "nbconvert_exporter": "python",
   "pygments_lexer": "ipython2",
   "version": "2.7.6"
  }
 },
 "nbformat": 4,
 "nbformat_minor": 0
}
