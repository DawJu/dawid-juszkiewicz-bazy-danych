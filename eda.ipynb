{
 "cells": [
  {
   "cell_type": "code",
   "execution_count": 1,
   "metadata": {
    "collapsed": true
   },
   "outputs": [],
   "source": [
    "import pandas as pd"
   ]
  },
  {
   "cell_type": "code",
   "execution_count": 4,
   "outputs": [
    {
     "data": {
      "text/plain": "  location        date  weathercode  temperature_max  temperature_min  \\\n0  Olsztyn  2022-10-01           53             14.8              7.2   \n1  Olsztyn  2022-10-02           61             13.2              9.4   \n2  Olsztyn  2022-10-03           53             12.3              8.9   \n3  Olsztyn  2022-10-04           51             13.5              8.8   \n4  Olsztyn  2022-10-05            3             15.7              9.2   \n\n   rain_sum  snowfall_sum  windspeed_max  winddirection_dominant  \n0       3.4           0.0           17.7                     268  \n1       4.5           0.0           22.4                     188  \n2       1.6           0.0           31.6                     133  \n3       0.8           0.0           26.3                     146  \n4       0.0           0.0           20.2                     226  ",
      "text/html": "<div>\n<style scoped>\n    .dataframe tbody tr th:only-of-type {\n        vertical-align: middle;\n    }\n\n    .dataframe tbody tr th {\n        vertical-align: top;\n    }\n\n    .dataframe thead th {\n        text-align: right;\n    }\n</style>\n<table border=\"1\" class=\"dataframe\">\n  <thead>\n    <tr style=\"text-align: right;\">\n      <th></th>\n      <th>location</th>\n      <th>date</th>\n      <th>weathercode</th>\n      <th>temperature_max</th>\n      <th>temperature_min</th>\n      <th>rain_sum</th>\n      <th>snowfall_sum</th>\n      <th>windspeed_max</th>\n      <th>winddirection_dominant</th>\n    </tr>\n  </thead>\n  <tbody>\n    <tr>\n      <th>0</th>\n      <td>Olsztyn</td>\n      <td>2022-10-01</td>\n      <td>53</td>\n      <td>14.8</td>\n      <td>7.2</td>\n      <td>3.4</td>\n      <td>0.0</td>\n      <td>17.7</td>\n      <td>268</td>\n    </tr>\n    <tr>\n      <th>1</th>\n      <td>Olsztyn</td>\n      <td>2022-10-02</td>\n      <td>61</td>\n      <td>13.2</td>\n      <td>9.4</td>\n      <td>4.5</td>\n      <td>0.0</td>\n      <td>22.4</td>\n      <td>188</td>\n    </tr>\n    <tr>\n      <th>2</th>\n      <td>Olsztyn</td>\n      <td>2022-10-03</td>\n      <td>53</td>\n      <td>12.3</td>\n      <td>8.9</td>\n      <td>1.6</td>\n      <td>0.0</td>\n      <td>31.6</td>\n      <td>133</td>\n    </tr>\n    <tr>\n      <th>3</th>\n      <td>Olsztyn</td>\n      <td>2022-10-04</td>\n      <td>51</td>\n      <td>13.5</td>\n      <td>8.8</td>\n      <td>0.8</td>\n      <td>0.0</td>\n      <td>26.3</td>\n      <td>146</td>\n    </tr>\n    <tr>\n      <th>4</th>\n      <td>Olsztyn</td>\n      <td>2022-10-05</td>\n      <td>3</td>\n      <td>15.7</td>\n      <td>9.2</td>\n      <td>0.0</td>\n      <td>0.0</td>\n      <td>20.2</td>\n      <td>226</td>\n    </tr>\n  </tbody>\n</table>\n</div>"
     },
     "execution_count": 4,
     "metadata": {},
     "output_type": "execute_result"
    }
   ],
   "source": [
    "df = pd.read_csv('data/daily_data.csv')\n",
    "df.head()"
   ],
   "metadata": {
    "collapsed": false
   }
  },
  {
   "cell_type": "code",
   "execution_count": 5,
   "outputs": [
    {
     "data": {
      "text/plain": "       weathercode  temperature_max  temperature_min    rain_sum  \\\ncount   312.000000       312.000000       312.000000  312.000000   \nmean     40.099359         8.846154         3.950962    1.701282   \nstd      25.864470         6.383352         5.532651    3.332650   \nmin       0.000000        -7.000000       -15.000000    0.000000   \n25%       3.000000         2.900000        -0.425000    0.000000   \n50%      51.000000        10.000000         4.700000    0.200000   \n75%      53.000000        13.900000         8.600000    1.950000   \nmax      75.000000        20.800000        13.600000   30.300000   \n\n       snowfall_sum  windspeed_max  winddirection_dominant  \ncount    312.000000     312.000000              312.000000  \nmean       0.173654      19.226603              212.173077  \nstd        0.700449       7.041537               78.520578  \nmin        0.000000       5.000000                0.000000  \n25%        0.000000      14.100000              181.000000  \n50%        0.000000      18.450000              221.000000  \n75%        0.000000      23.625000              265.000000  \nmax        7.140000      42.200000              358.000000  ",
      "text/html": "<div>\n<style scoped>\n    .dataframe tbody tr th:only-of-type {\n        vertical-align: middle;\n    }\n\n    .dataframe tbody tr th {\n        vertical-align: top;\n    }\n\n    .dataframe thead th {\n        text-align: right;\n    }\n</style>\n<table border=\"1\" class=\"dataframe\">\n  <thead>\n    <tr style=\"text-align: right;\">\n      <th></th>\n      <th>weathercode</th>\n      <th>temperature_max</th>\n      <th>temperature_min</th>\n      <th>rain_sum</th>\n      <th>snowfall_sum</th>\n      <th>windspeed_max</th>\n      <th>winddirection_dominant</th>\n    </tr>\n  </thead>\n  <tbody>\n    <tr>\n      <th>count</th>\n      <td>312.000000</td>\n      <td>312.000000</td>\n      <td>312.000000</td>\n      <td>312.000000</td>\n      <td>312.000000</td>\n      <td>312.000000</td>\n      <td>312.000000</td>\n    </tr>\n    <tr>\n      <th>mean</th>\n      <td>40.099359</td>\n      <td>8.846154</td>\n      <td>3.950962</td>\n      <td>1.701282</td>\n      <td>0.173654</td>\n      <td>19.226603</td>\n      <td>212.173077</td>\n    </tr>\n    <tr>\n      <th>std</th>\n      <td>25.864470</td>\n      <td>6.383352</td>\n      <td>5.532651</td>\n      <td>3.332650</td>\n      <td>0.700449</td>\n      <td>7.041537</td>\n      <td>78.520578</td>\n    </tr>\n    <tr>\n      <th>min</th>\n      <td>0.000000</td>\n      <td>-7.000000</td>\n      <td>-15.000000</td>\n      <td>0.000000</td>\n      <td>0.000000</td>\n      <td>5.000000</td>\n      <td>0.000000</td>\n    </tr>\n    <tr>\n      <th>25%</th>\n      <td>3.000000</td>\n      <td>2.900000</td>\n      <td>-0.425000</td>\n      <td>0.000000</td>\n      <td>0.000000</td>\n      <td>14.100000</td>\n      <td>181.000000</td>\n    </tr>\n    <tr>\n      <th>50%</th>\n      <td>51.000000</td>\n      <td>10.000000</td>\n      <td>4.700000</td>\n      <td>0.200000</td>\n      <td>0.000000</td>\n      <td>18.450000</td>\n      <td>221.000000</td>\n    </tr>\n    <tr>\n      <th>75%</th>\n      <td>53.000000</td>\n      <td>13.900000</td>\n      <td>8.600000</td>\n      <td>1.950000</td>\n      <td>0.000000</td>\n      <td>23.625000</td>\n      <td>265.000000</td>\n    </tr>\n    <tr>\n      <th>max</th>\n      <td>75.000000</td>\n      <td>20.800000</td>\n      <td>13.600000</td>\n      <td>30.300000</td>\n      <td>7.140000</td>\n      <td>42.200000</td>\n      <td>358.000000</td>\n    </tr>\n  </tbody>\n</table>\n</div>"
     },
     "execution_count": 5,
     "metadata": {},
     "output_type": "execute_result"
    }
   ],
   "source": [
    "df.describe()"
   ],
   "metadata": {
    "collapsed": false
   }
  },
  {
   "cell_type": "code",
   "execution_count": 7,
   "outputs": [
    {
     "data": {
      "text/plain": "       location        date\ncount       312         312\nunique        3         104\ntop     Olsztyn  2022-10-01\nfreq        104           3",
      "text/html": "<div>\n<style scoped>\n    .dataframe tbody tr th:only-of-type {\n        vertical-align: middle;\n    }\n\n    .dataframe tbody tr th {\n        vertical-align: top;\n    }\n\n    .dataframe thead th {\n        text-align: right;\n    }\n</style>\n<table border=\"1\" class=\"dataframe\">\n  <thead>\n    <tr style=\"text-align: right;\">\n      <th></th>\n      <th>location</th>\n      <th>date</th>\n    </tr>\n  </thead>\n  <tbody>\n    <tr>\n      <th>count</th>\n      <td>312</td>\n      <td>312</td>\n    </tr>\n    <tr>\n      <th>unique</th>\n      <td>3</td>\n      <td>104</td>\n    </tr>\n    <tr>\n      <th>top</th>\n      <td>Olsztyn</td>\n      <td>2022-10-01</td>\n    </tr>\n    <tr>\n      <th>freq</th>\n      <td>104</td>\n      <td>3</td>\n    </tr>\n  </tbody>\n</table>\n</div>"
     },
     "execution_count": 7,
     "metadata": {},
     "output_type": "execute_result"
    }
   ],
   "source": [
    "df.describe(exclude=['float', 'int'])"
   ],
   "metadata": {
    "collapsed": false
   }
  },
  {
   "cell_type": "code",
   "execution_count": 13,
   "outputs": [
    {
     "data": {
      "text/plain": "   weathercode  temperature_max  temperature_min  rain_sum  snowfall_sum  \\\n0         51.0              9.6             -1.1       0.0           0.0   \n1          NaN             11.3              NaN       NaN           NaN   \n\n   windspeed_max  winddirection_dominant  \n0           15.9                   236.0  \n1            NaN                     NaN  ",
      "text/html": "<div>\n<style scoped>\n    .dataframe tbody tr th:only-of-type {\n        vertical-align: middle;\n    }\n\n    .dataframe tbody tr th {\n        vertical-align: top;\n    }\n\n    .dataframe thead th {\n        text-align: right;\n    }\n</style>\n<table border=\"1\" class=\"dataframe\">\n  <thead>\n    <tr style=\"text-align: right;\">\n      <th></th>\n      <th>weathercode</th>\n      <th>temperature_max</th>\n      <th>temperature_min</th>\n      <th>rain_sum</th>\n      <th>snowfall_sum</th>\n      <th>windspeed_max</th>\n      <th>winddirection_dominant</th>\n    </tr>\n  </thead>\n  <tbody>\n    <tr>\n      <th>0</th>\n      <td>51.0</td>\n      <td>9.6</td>\n      <td>-1.1</td>\n      <td>0.0</td>\n      <td>0.0</td>\n      <td>15.9</td>\n      <td>236.0</td>\n    </tr>\n    <tr>\n      <th>1</th>\n      <td>NaN</td>\n      <td>11.3</td>\n      <td>NaN</td>\n      <td>NaN</td>\n      <td>NaN</td>\n      <td>NaN</td>\n      <td>NaN</td>\n    </tr>\n  </tbody>\n</table>\n</div>"
     },
     "execution_count": 13,
     "metadata": {},
     "output_type": "execute_result"
    }
   ],
   "source": [
    "df.mode(numeric_only=True)"
   ],
   "metadata": {
    "collapsed": false
   }
  },
  {
   "cell_type": "code",
   "execution_count": 14,
   "outputs": [
    {
     "data": {
      "text/plain": "weathercode                51.00\ntemperature_max            10.00\ntemperature_min             4.70\nrain_sum                    0.20\nsnowfall_sum                0.00\nwindspeed_max              18.45\nwinddirection_dominant    221.00\ndtype: float64"
     },
     "execution_count": 14,
     "metadata": {},
     "output_type": "execute_result"
    }
   ],
   "source": [
    "df.median(numeric_only=True)"
   ],
   "metadata": {
    "collapsed": false
   }
  },
  {
   "cell_type": "code",
   "execution_count": 15,
   "outputs": [
    {
     "data": {
      "text/plain": "weathercode                668.970803\ntemperature_max             40.747188\ntemperature_min             30.610224\nrain_sum                    11.106558\nsnowfall_sum                 0.490628\nwindspeed_max               49.583245\nwinddirection_dominant    6165.481202\ndtype: float64"
     },
     "execution_count": 15,
     "metadata": {},
     "output_type": "execute_result"
    }
   ],
   "source": [
    "df.var(numeric_only=True)"
   ],
   "metadata": {
    "collapsed": false
   }
  },
  {
   "cell_type": "code",
   "execution_count": 17,
   "outputs": [
    {
     "data": {
      "text/plain": "weathercode               -1.275506\ntemperature_max           -0.889217\ntemperature_min           -0.258470\nrain_sum                  23.375011\nsnowfall_sum              39.636280\nwindspeed_max              0.088675\nwinddirection_dominant     0.414043\ndtype: float64"
     },
     "execution_count": 17,
     "metadata": {},
     "output_type": "execute_result"
    }
   ],
   "source": [
    "df.kurtosis(numeric_only=True)"
   ],
   "metadata": {
    "collapsed": false
   }
  },
  {
   "cell_type": "code",
   "execution_count": 18,
   "outputs": [
    {
     "data": {
      "text/plain": "weathercode              -0.602737\ntemperature_max          -0.376474\ntemperature_min          -0.565504\nrain_sum                  4.019631\nsnowfall_sum              5.666990\nwindspeed_max             0.663114\nwinddirection_dominant   -0.782811\ndtype: float64"
     },
     "execution_count": 18,
     "metadata": {},
     "output_type": "execute_result"
    }
   ],
   "source": [
    "df.skew(numeric_only=True)"
   ],
   "metadata": {
    "collapsed": false
   }
  }
 ],
 "metadata": {
  "kernelspec": {
   "display_name": "Python 3",
   "language": "python",
   "name": "python3"
  },
  "language_info": {
   "codemirror_mode": {
    "name": "ipython",
    "version": 2
   },
   "file_extension": ".py",
   "mimetype": "text/x-python",
   "name": "python",
   "nbconvert_exporter": "python",
   "pygments_lexer": "ipython2",
   "version": "2.7.6"
  }
 },
 "nbformat": 4,
 "nbformat_minor": 0
}
