{
 "cells": [
  {
   "cell_type": "code",
   "execution_count": 59,
   "metadata": {
    "collapsed": true
   },
   "outputs": [],
   "source": [
    "import pandas as pd\n",
    "import requests\n",
    "import json\n",
    "from datetime import datetime"
   ]
  },
  {
   "cell_type": "code",
   "execution_count": 60,
   "outputs": [
    {
     "data": {
      "text/plain": "('2023', '01', '19')"
     },
     "execution_count": 60,
     "metadata": {},
     "output_type": "execute_result"
    }
   ],
   "source": [
    "y = str(datetime.now().year)\n",
    "m = str(datetime.now().month)\n",
    "if len(m) == 1:\n",
    "    m = f'0{m}'\n",
    "d = str(datetime.now().day)\n",
    "if len(d) == 1:\n",
    "    m = f'0{d}'\n",
    "y, m, d"
   ],
   "metadata": {
    "collapsed": false
   }
  },
  {
   "cell_type": "code",
   "execution_count": 61,
   "outputs": [],
   "source": [
    "response_API_daily = requests.get(f'https://api.open-meteo.com/v1/forecast?latitude=53.78&longitude=20.49&daily=weathercode,temperature_2m_max,temperature_2m_min,rain_sum,snowfall_sum,windspeed_10m_max,winddirection_10m_dominant&timezone=auto&start_date={y}-{m}-{d}&end_date={y}-{m}-{d}')"
   ],
   "metadata": {
    "collapsed": false
   }
  },
  {
   "cell_type": "code",
   "execution_count": 62,
   "outputs": [
    {
     "name": "stdout",
     "output_type": "stream",
     "text": [
      "{'latitude': 53.75, 'longitude': 20.5, 'generationtime_ms': 1.4809370040893555, 'utc_offset_seconds': 3600, 'timezone': 'Europe/Warsaw', 'timezone_abbreviation': 'CET', 'elevation': 133.0, 'daily_units': {'time': 'iso8601', 'weathercode': 'wmo code', 'temperature_2m_max': '°C', 'temperature_2m_min': '°C', 'rain_sum': 'mm', 'snowfall_sum': 'cm', 'windspeed_10m_max': 'km/h', 'winddirection_10m_dominant': '°'}, 'daily': {'time': ['2023-01-19'], 'weathercode': [45], 'temperature_2m_max': [0.9], 'temperature_2m_min': [-0.6], 'rain_sum': [0.0], 'snowfall_sum': [0.0], 'windspeed_10m_max': [9.9], 'winddirection_10m_dominant': [215]}}\n"
     ]
    }
   ],
   "source": [
    "daily_data = response_API_daily.text\n",
    "parse_json = json.loads(daily_data)\n",
    "print(parse_json)"
   ],
   "metadata": {
    "collapsed": false
   }
  },
  {
   "cell_type": "code",
   "execution_count": 63,
   "outputs": [
    {
     "data": {
      "text/plain": "         time  weathercode  temperature_2m_max  temperature_2m_min  rain_sum  \\\n0  2023-01-19           45                 0.9                -0.6       0.0   \n\n   snowfall_sum  windspeed_10m_max  winddirection_10m_dominant  \n0           0.0                9.9                         215  ",
      "text/html": "<div>\n<style scoped>\n    .dataframe tbody tr th:only-of-type {\n        vertical-align: middle;\n    }\n\n    .dataframe tbody tr th {\n        vertical-align: top;\n    }\n\n    .dataframe thead th {\n        text-align: right;\n    }\n</style>\n<table border=\"1\" class=\"dataframe\">\n  <thead>\n    <tr style=\"text-align: right;\">\n      <th></th>\n      <th>time</th>\n      <th>weathercode</th>\n      <th>temperature_2m_max</th>\n      <th>temperature_2m_min</th>\n      <th>rain_sum</th>\n      <th>snowfall_sum</th>\n      <th>windspeed_10m_max</th>\n      <th>winddirection_10m_dominant</th>\n    </tr>\n  </thead>\n  <tbody>\n    <tr>\n      <th>0</th>\n      <td>2023-01-19</td>\n      <td>45</td>\n      <td>0.9</td>\n      <td>-0.6</td>\n      <td>0.0</td>\n      <td>0.0</td>\n      <td>9.9</td>\n      <td>215</td>\n    </tr>\n  </tbody>\n</table>\n</div>"
     },
     "execution_count": 63,
     "metadata": {},
     "output_type": "execute_result"
    }
   ],
   "source": [
    "df = pd.DataFrame(parse_json['daily'], index=[0])\n",
    "df.head()"
   ],
   "metadata": {
    "collapsed": false
   }
  },
  {
   "cell_type": "code",
   "execution_count": 64,
   "outputs": [],
   "source": [
    "response_API_hourly = requests.get(f'https://api.open-meteo.com/v1/forecast?latitude=53.78&longitude=20.49&hourly=temperature_2m,relativehumidity_2m,rain,snowfall,weathercode,windspeed_10m,winddirection_10m&timezone=auto&start_date={y}-{m}-{d}&end_date={y}-{m}-{d}')"
   ],
   "metadata": {
    "collapsed": false
   }
  },
  {
   "cell_type": "code",
   "execution_count": 65,
   "outputs": [
    {
     "name": "stdout",
     "output_type": "stream",
     "text": [
      "{'latitude': 53.75, 'longitude': 20.5, 'generationtime_ms': 0.8649826049804688, 'utc_offset_seconds': 3600, 'timezone': 'Europe/Warsaw', 'timezone_abbreviation': 'CET', 'elevation': 133.0, 'hourly_units': {'time': 'iso8601', 'temperature_2m': '°C', 'relativehumidity_2m': '%', 'rain': 'mm', 'snowfall': 'cm', 'weathercode': 'wmo code', 'windspeed_10m': 'km/h', 'winddirection_10m': '°'}, 'hourly': {'time': ['2023-01-19T00:00', '2023-01-19T01:00', '2023-01-19T02:00', '2023-01-19T03:00', '2023-01-19T04:00', '2023-01-19T05:00', '2023-01-19T06:00', '2023-01-19T07:00', '2023-01-19T08:00', '2023-01-19T09:00', '2023-01-19T10:00', '2023-01-19T11:00', '2023-01-19T12:00', '2023-01-19T13:00', '2023-01-19T14:00', '2023-01-19T15:00', '2023-01-19T16:00', '2023-01-19T17:00', '2023-01-19T18:00', '2023-01-19T19:00', '2023-01-19T20:00', '2023-01-19T21:00', '2023-01-19T22:00', '2023-01-19T23:00'], 'temperature_2m': [0.9, 0.9, 0.8, 0.7, 0.5, 0.2, -0.1, -0.5, -0.6, -0.4, 0.2, 0.4, 0.5, 0.6, 0.7, 0.8, 0.2, -0.0, -0.2, -0.3, -0.1, -0.2, -0.2, -0.5], 'relativehumidity_2m': [96, 97, 96, 96, 95, 96, 96, 97, 98, 99, 96, 95, 94, 91, 92, 92, 93, 92, 93, 94, 94, 95, 94, 94], 'rain': [0.0, 0.0, 0.0, 0.0, 0.0, 0.0, 0.0, 0.0, 0.0, 0.0, 0.0, 0.0, 0.0, 0.0, 0.0, 0.0, 0.0, 0.0, 0.0, 0.0, 0.0, 0.0, 0.0, 0.0], 'snowfall': [0.0, 0.0, 0.0, 0.0, 0.0, 0.0, 0.0, 0.0, 0.0, 0.0, 0.0, 0.0, 0.0, 0.0, 0.0, 0.0, 0.0, 0.0, 0.0, 0.0, 0.0, 0.0, 0.0, 0.0], 'weathercode': [3, 3, 3, 3, 3, 3, 3, 45, 45, 45, 45, 45, 3, 3, 3, 3, 3, 3, 3, 3, 3, 3, 3, 3], 'windspeed_10m': [9.9, 9.4, 8.8, 7.2, 5.5, 3.9, 2.8, 2.5, 2.4, 3.2, 4.3, 4.3, 4.3, 6.3, 5.9, 4.1, 2.3, 1.8, 2.3, 2.9, 1.0, 2.7, 3.9, 5.1], 'winddirection_10m': [260, 263, 251, 243, 247, 236, 230, 180, 153, 153, 175, 175, 156, 149, 133, 128, 108, 90, 108, 120, 315, 293, 304, 309]}}\n"
     ]
    }
   ],
   "source": [
    "hourly_data = response_API_hourly.text\n",
    "parse_json2 = json.loads(hourly_data)\n",
    "print(parse_json2)"
   ],
   "metadata": {
    "collapsed": false
   }
  },
  {
   "cell_type": "code",
   "execution_count": 66,
   "outputs": [
    {
     "name": "stdout",
     "output_type": "stream",
     "text": [
      "24\n"
     ]
    },
    {
     "data": {
      "text/plain": "               time  temperature_2m  relativehumidity_2m  rain  snowfall  \\\n0  2023-01-19T00:00             0.9                   96   0.0       0.0   \n1  2023-01-19T01:00             0.9                   97   0.0       0.0   \n2  2023-01-19T02:00             0.8                   96   0.0       0.0   \n3  2023-01-19T03:00             0.7                   96   0.0       0.0   \n4  2023-01-19T04:00             0.5                   95   0.0       0.0   \n\n   weathercode  windspeed_10m  winddirection_10m  \n0            3            9.9                260  \n1            3            9.4                263  \n2            3            8.8                251  \n3            3            7.2                243  \n4            3            5.5                247  ",
      "text/html": "<div>\n<style scoped>\n    .dataframe tbody tr th:only-of-type {\n        vertical-align: middle;\n    }\n\n    .dataframe tbody tr th {\n        vertical-align: top;\n    }\n\n    .dataframe thead th {\n        text-align: right;\n    }\n</style>\n<table border=\"1\" class=\"dataframe\">\n  <thead>\n    <tr style=\"text-align: right;\">\n      <th></th>\n      <th>time</th>\n      <th>temperature_2m</th>\n      <th>relativehumidity_2m</th>\n      <th>rain</th>\n      <th>snowfall</th>\n      <th>weathercode</th>\n      <th>windspeed_10m</th>\n      <th>winddirection_10m</th>\n    </tr>\n  </thead>\n  <tbody>\n    <tr>\n      <th>0</th>\n      <td>2023-01-19T00:00</td>\n      <td>0.9</td>\n      <td>96</td>\n      <td>0.0</td>\n      <td>0.0</td>\n      <td>3</td>\n      <td>9.9</td>\n      <td>260</td>\n    </tr>\n    <tr>\n      <th>1</th>\n      <td>2023-01-19T01:00</td>\n      <td>0.9</td>\n      <td>97</td>\n      <td>0.0</td>\n      <td>0.0</td>\n      <td>3</td>\n      <td>9.4</td>\n      <td>263</td>\n    </tr>\n    <tr>\n      <th>2</th>\n      <td>2023-01-19T02:00</td>\n      <td>0.8</td>\n      <td>96</td>\n      <td>0.0</td>\n      <td>0.0</td>\n      <td>3</td>\n      <td>8.8</td>\n      <td>251</td>\n    </tr>\n    <tr>\n      <th>3</th>\n      <td>2023-01-19T03:00</td>\n      <td>0.7</td>\n      <td>96</td>\n      <td>0.0</td>\n      <td>0.0</td>\n      <td>3</td>\n      <td>7.2</td>\n      <td>243</td>\n    </tr>\n    <tr>\n      <th>4</th>\n      <td>2023-01-19T04:00</td>\n      <td>0.5</td>\n      <td>95</td>\n      <td>0.0</td>\n      <td>0.0</td>\n      <td>3</td>\n      <td>5.5</td>\n      <td>247</td>\n    </tr>\n  </tbody>\n</table>\n</div>"
     },
     "execution_count": 66,
     "metadata": {},
     "output_type": "execute_result"
    }
   ],
   "source": [
    "df2 = pd.DataFrame(parse_json2['hourly'], index=[0, 1, 2, 3, 4, 5, 6, 7, 8, 9, 10, 11, 12, 13, 14, 15, 16, 17, 18, 19, 20, 21, 22, 23])\n",
    "print(df2.shape[0])\n",
    "df2.head()"
   ],
   "metadata": {
    "collapsed": false
   }
  }
 ],
 "metadata": {
  "kernelspec": {
   "display_name": "Python 3",
   "language": "python",
   "name": "python3"
  },
  "language_info": {
   "codemirror_mode": {
    "name": "ipython",
    "version": 2
   },
   "file_extension": ".py",
   "mimetype": "text/x-python",
   "name": "python",
   "nbconvert_exporter": "python",
   "pygments_lexer": "ipython2",
   "version": "2.7.6"
  }
 },
 "nbformat": 4,
 "nbformat_minor": 0
}
