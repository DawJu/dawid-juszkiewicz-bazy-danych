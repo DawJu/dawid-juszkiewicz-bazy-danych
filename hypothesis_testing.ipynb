{
 "cells": [
  {
   "cell_type": "code",
   "execution_count": 1,
   "metadata": {
    "collapsed": true
   },
   "outputs": [],
   "source": [
    "import pandas as pd\n",
    "from scipy.stats import normaltest"
   ]
  },
  {
   "cell_type": "code",
   "execution_count": 10,
   "outputs": [
    {
     "data": {
      "text/plain": "  location        date  weathercode  temperature_max  temperature_min  \\\n0  Olsztyn  2022-10-01           53             14.8              7.2   \n1  Olsztyn  2022-10-02           61             13.2              9.4   \n2  Olsztyn  2022-10-03           53             12.3              8.9   \n3  Olsztyn  2022-10-04           51             13.5              8.8   \n4  Olsztyn  2022-10-05            3             15.7              9.2   \n\n   rain_sum  snowfall_sum  windspeed_max  winddirection_dominant  \n0       3.4           0.0           17.7                     268  \n1       4.5           0.0           22.4                     188  \n2       1.6           0.0           31.6                     133  \n3       0.8           0.0           26.3                     146  \n4       0.0           0.0           20.2                     226  ",
      "text/html": "<div>\n<style scoped>\n    .dataframe tbody tr th:only-of-type {\n        vertical-align: middle;\n    }\n\n    .dataframe tbody tr th {\n        vertical-align: top;\n    }\n\n    .dataframe thead th {\n        text-align: right;\n    }\n</style>\n<table border=\"1\" class=\"dataframe\">\n  <thead>\n    <tr style=\"text-align: right;\">\n      <th></th>\n      <th>location</th>\n      <th>date</th>\n      <th>weathercode</th>\n      <th>temperature_max</th>\n      <th>temperature_min</th>\n      <th>rain_sum</th>\n      <th>snowfall_sum</th>\n      <th>windspeed_max</th>\n      <th>winddirection_dominant</th>\n    </tr>\n  </thead>\n  <tbody>\n    <tr>\n      <th>0</th>\n      <td>Olsztyn</td>\n      <td>2022-10-01</td>\n      <td>53</td>\n      <td>14.8</td>\n      <td>7.2</td>\n      <td>3.4</td>\n      <td>0.0</td>\n      <td>17.7</td>\n      <td>268</td>\n    </tr>\n    <tr>\n      <th>1</th>\n      <td>Olsztyn</td>\n      <td>2022-10-02</td>\n      <td>61</td>\n      <td>13.2</td>\n      <td>9.4</td>\n      <td>4.5</td>\n      <td>0.0</td>\n      <td>22.4</td>\n      <td>188</td>\n    </tr>\n    <tr>\n      <th>2</th>\n      <td>Olsztyn</td>\n      <td>2022-10-03</td>\n      <td>53</td>\n      <td>12.3</td>\n      <td>8.9</td>\n      <td>1.6</td>\n      <td>0.0</td>\n      <td>31.6</td>\n      <td>133</td>\n    </tr>\n    <tr>\n      <th>3</th>\n      <td>Olsztyn</td>\n      <td>2022-10-04</td>\n      <td>51</td>\n      <td>13.5</td>\n      <td>8.8</td>\n      <td>0.8</td>\n      <td>0.0</td>\n      <td>26.3</td>\n      <td>146</td>\n    </tr>\n    <tr>\n      <th>4</th>\n      <td>Olsztyn</td>\n      <td>2022-10-05</td>\n      <td>3</td>\n      <td>15.7</td>\n      <td>9.2</td>\n      <td>0.0</td>\n      <td>0.0</td>\n      <td>20.2</td>\n      <td>226</td>\n    </tr>\n  </tbody>\n</table>\n</div>"
     },
     "execution_count": 10,
     "metadata": {},
     "output_type": "execute_result"
    }
   ],
   "source": [
    "df = pd.read_csv('data/daily_data.csv')\n",
    "df.head()"
   ],
   "metadata": {
    "collapsed": false
   }
  },
  {
   "cell_type": "code",
   "execution_count": 11,
   "outputs": [
    {
     "name": "stdout",
     "output_type": "stream",
     "text": [
      "weathercode: NormaltestResult(statistic=307.32794288257776, pvalue=1.8390144246024567e-67)\n",
      "temperature_max: NormaltestResult(statistic=42.64230732914318, pvalue=5.499720459321583e-10)\n",
      "temperature_min: NormaltestResult(statistic=16.09763256185657, pvalue=0.00031947987316224824)\n",
      "rain_sum: NormaltestResult(statistic=297.69182772838866, pvalue=2.275311987626435e-65)\n",
      "snowfall_sum: NormaltestResult(statistic=381.60427336425215, pvalue=1.3667368486299417e-83)\n",
      "windspeed_max: NormaltestResult(statistic=20.20848310872399, pvalue=4.090568306343394e-05)\n",
      "winddirection_dominant: NormaltestResult(statistic=28.475945072257286, pvalue=6.554311745494678e-07)\n"
     ]
    }
   ],
   "source": [
    "col_names = ['weathercode', 'temperature_max', 'temperature_min', 'rain_sum', 'snowfall_sum', 'windspeed_max', 'winddirection_dominant']\n",
    "for column in col_names:\n",
    "    print(f'{column}: {normaltest(df[column])}')"
   ],
   "metadata": {
    "collapsed": false
   }
  },
  {
   "cell_type": "markdown",
   "source": [
    "Żadna ze zmiennych nie wykazuje normalności"
   ],
   "metadata": {
    "collapsed": false
   }
  },
  {
   "cell_type": "code",
   "execution_count": 12,
   "outputs": [],
   "source": [
    "from scipy.stats import levene"
   ],
   "metadata": {
    "collapsed": false
   }
  },
  {
   "cell_type": "code",
   "execution_count": 13,
   "outputs": [
    {
     "data": {
      "text/plain": "LeveneResult(statistic=8.469331371667092, pvalue=0.0037410041554650844)"
     },
     "execution_count": 13,
     "metadata": {},
     "output_type": "execute_result"
    }
   ],
   "source": [
    "levene(df['temperature_max'], df['temperature_min'])"
   ],
   "metadata": {
    "collapsed": false
   }
  },
  {
   "cell_type": "markdown",
   "source": [
    "Wariancja jest równa"
   ],
   "metadata": {
    "collapsed": false
   }
  },
  {
   "cell_type": "code",
   "execution_count": 14,
   "outputs": [
    {
     "data": {
      "text/plain": "LeveneResult(statistic=63.01485465954275, pvalue=9.604918105842878e-15)"
     },
     "execution_count": 14,
     "metadata": {},
     "output_type": "execute_result"
    }
   ],
   "source": [
    "levene(df['rain_sum'], df['snowfall_sum'])"
   ],
   "metadata": {
    "collapsed": false
   }
  },
  {
   "cell_type": "markdown",
   "source": [
    "Wariancja jest różna"
   ],
   "metadata": {
    "collapsed": false
   }
  },
  {
   "cell_type": "code",
   "execution_count": 15,
   "outputs": [],
   "source": [
    "from scipy.stats import ttest_ind"
   ],
   "metadata": {
    "collapsed": false
   }
  },
  {
   "cell_type": "code",
   "execution_count": 16,
   "outputs": [
    {
     "data": {
      "text/plain": "Ttest_indResult(statistic=-39.73611491958324, pvalue=7.820239352554516e-173)"
     },
     "execution_count": 16,
     "metadata": {},
     "output_type": "execute_result"
    }
   ],
   "source": [
    "ttest_ind(df['rain_sum'], df['windspeed_max'])"
   ],
   "metadata": {
    "collapsed": false
   }
  },
  {
   "cell_type": "markdown",
   "source": [
    "Średnia sumy deszczu i maksymalnej prędkości wiatru są różne"
   ],
   "metadata": {
    "collapsed": false
   }
  },
  {
   "cell_type": "code",
   "execution_count": 17,
   "outputs": [],
   "source": [
    "from scipy.stats import ttest_rel"
   ],
   "metadata": {
    "collapsed": false
   }
  },
  {
   "cell_type": "code",
   "execution_count": 19,
   "outputs": [
    {
     "data": {
      "text/plain": "  location        date  weathercode  temperature_max  temperature_min  \\\n0  Olsztyn  2022-10-01           53             14.8              7.2   \n1  Olsztyn  2022-10-02           61             13.2              9.4   \n2  Olsztyn  2022-10-03           53             12.3              8.9   \n3  Olsztyn  2022-10-04           51             13.5              8.8   \n4  Olsztyn  2022-10-05            3             15.7              9.2   \n\n   rain_sum  snowfall_sum  windspeed_max  winddirection_dominant  \n0       3.4           0.0           17.7                     268  \n1       4.5           0.0           22.4                     188  \n2       1.6           0.0           31.6                     133  \n3       0.8           0.0           26.3                     146  \n4       0.0           0.0           20.2                     226  ",
      "text/html": "<div>\n<style scoped>\n    .dataframe tbody tr th:only-of-type {\n        vertical-align: middle;\n    }\n\n    .dataframe tbody tr th {\n        vertical-align: top;\n    }\n\n    .dataframe thead th {\n        text-align: right;\n    }\n</style>\n<table border=\"1\" class=\"dataframe\">\n  <thead>\n    <tr style=\"text-align: right;\">\n      <th></th>\n      <th>location</th>\n      <th>date</th>\n      <th>weathercode</th>\n      <th>temperature_max</th>\n      <th>temperature_min</th>\n      <th>rain_sum</th>\n      <th>snowfall_sum</th>\n      <th>windspeed_max</th>\n      <th>winddirection_dominant</th>\n    </tr>\n  </thead>\n  <tbody>\n    <tr>\n      <th>0</th>\n      <td>Olsztyn</td>\n      <td>2022-10-01</td>\n      <td>53</td>\n      <td>14.8</td>\n      <td>7.2</td>\n      <td>3.4</td>\n      <td>0.0</td>\n      <td>17.7</td>\n      <td>268</td>\n    </tr>\n    <tr>\n      <th>1</th>\n      <td>Olsztyn</td>\n      <td>2022-10-02</td>\n      <td>61</td>\n      <td>13.2</td>\n      <td>9.4</td>\n      <td>4.5</td>\n      <td>0.0</td>\n      <td>22.4</td>\n      <td>188</td>\n    </tr>\n    <tr>\n      <th>2</th>\n      <td>Olsztyn</td>\n      <td>2022-10-03</td>\n      <td>53</td>\n      <td>12.3</td>\n      <td>8.9</td>\n      <td>1.6</td>\n      <td>0.0</td>\n      <td>31.6</td>\n      <td>133</td>\n    </tr>\n    <tr>\n      <th>3</th>\n      <td>Olsztyn</td>\n      <td>2022-10-04</td>\n      <td>51</td>\n      <td>13.5</td>\n      <td>8.8</td>\n      <td>0.8</td>\n      <td>0.0</td>\n      <td>26.3</td>\n      <td>146</td>\n    </tr>\n    <tr>\n      <th>4</th>\n      <td>Olsztyn</td>\n      <td>2022-10-05</td>\n      <td>3</td>\n      <td>15.7</td>\n      <td>9.2</td>\n      <td>0.0</td>\n      <td>0.0</td>\n      <td>20.2</td>\n      <td>226</td>\n    </tr>\n  </tbody>\n</table>\n</div>"
     },
     "execution_count": 19,
     "metadata": {},
     "output_type": "execute_result"
    }
   ],
   "source": [
    "df_ol = df[df['location'] == 'Olsztyn']\n",
    "df_ol.head()"
   ],
   "metadata": {
    "collapsed": false
   }
  },
  {
   "cell_type": "code",
   "execution_count": 20,
   "outputs": [
    {
     "data": {
      "text/plain": "     location        date  weathercode  temperature_max  temperature_min  \\\n104  Warszawa  2022-10-01           53             15.1              6.6   \n105  Warszawa  2022-10-02           53             13.2              9.9   \n106  Warszawa  2022-10-03           53             12.9              9.5   \n107  Warszawa  2022-10-04           51             14.2              8.9   \n108  Warszawa  2022-10-05            3             16.3              8.0   \n\n     rain_sum  snowfall_sum  windspeed_max  winddirection_dominant  \n104       4.5           0.0           12.5                     270  \n105       4.3           0.0           21.0                     175  \n106       2.1           0.0           31.4                     148  \n107       0.7           0.0           25.3                     158  \n108       0.0           0.0           17.0                     230  ",
      "text/html": "<div>\n<style scoped>\n    .dataframe tbody tr th:only-of-type {\n        vertical-align: middle;\n    }\n\n    .dataframe tbody tr th {\n        vertical-align: top;\n    }\n\n    .dataframe thead th {\n        text-align: right;\n    }\n</style>\n<table border=\"1\" class=\"dataframe\">\n  <thead>\n    <tr style=\"text-align: right;\">\n      <th></th>\n      <th>location</th>\n      <th>date</th>\n      <th>weathercode</th>\n      <th>temperature_max</th>\n      <th>temperature_min</th>\n      <th>rain_sum</th>\n      <th>snowfall_sum</th>\n      <th>windspeed_max</th>\n      <th>winddirection_dominant</th>\n    </tr>\n  </thead>\n  <tbody>\n    <tr>\n      <th>104</th>\n      <td>Warszawa</td>\n      <td>2022-10-01</td>\n      <td>53</td>\n      <td>15.1</td>\n      <td>6.6</td>\n      <td>4.5</td>\n      <td>0.0</td>\n      <td>12.5</td>\n      <td>270</td>\n    </tr>\n    <tr>\n      <th>105</th>\n      <td>Warszawa</td>\n      <td>2022-10-02</td>\n      <td>53</td>\n      <td>13.2</td>\n      <td>9.9</td>\n      <td>4.3</td>\n      <td>0.0</td>\n      <td>21.0</td>\n      <td>175</td>\n    </tr>\n    <tr>\n      <th>106</th>\n      <td>Warszawa</td>\n      <td>2022-10-03</td>\n      <td>53</td>\n      <td>12.9</td>\n      <td>9.5</td>\n      <td>2.1</td>\n      <td>0.0</td>\n      <td>31.4</td>\n      <td>148</td>\n    </tr>\n    <tr>\n      <th>107</th>\n      <td>Warszawa</td>\n      <td>2022-10-04</td>\n      <td>51</td>\n      <td>14.2</td>\n      <td>8.9</td>\n      <td>0.7</td>\n      <td>0.0</td>\n      <td>25.3</td>\n      <td>158</td>\n    </tr>\n    <tr>\n      <th>108</th>\n      <td>Warszawa</td>\n      <td>2022-10-05</td>\n      <td>3</td>\n      <td>16.3</td>\n      <td>8.0</td>\n      <td>0.0</td>\n      <td>0.0</td>\n      <td>17.0</td>\n      <td>230</td>\n    </tr>\n  </tbody>\n</table>\n</div>"
     },
     "execution_count": 20,
     "metadata": {},
     "output_type": "execute_result"
    }
   ],
   "source": [
    "df_war = df[df['location'] == 'Warszawa']\n",
    "df_war.head()"
   ],
   "metadata": {
    "collapsed": false
   }
  },
  {
   "cell_type": "code",
   "execution_count": 21,
   "outputs": [
    {
     "data": {
      "text/plain": "Ttest_relResult(statistic=0.8724894392879644, pvalue=0.3849708148535229)"
     },
     "execution_count": 21,
     "metadata": {},
     "output_type": "execute_result"
    }
   ],
   "source": [
    "ttest_rel(df_ol['winddirection_dominant'], df_war['winddirection_dominant'])"
   ],
   "metadata": {
    "collapsed": false
   }
  },
  {
   "cell_type": "markdown",
   "source": [
    "Można przyjąć, że średnie dominującego kierunku wiatru dla Olsztyna i Warszawy są równe"
   ],
   "metadata": {
    "collapsed": false
   }
  },
  {
   "cell_type": "code",
   "execution_count": 22,
   "outputs": [],
   "source": [
    "from scipy.stats import f_oneway"
   ],
   "metadata": {
    "collapsed": false
   }
  },
  {
   "cell_type": "code",
   "execution_count": 24,
   "outputs": [
    {
     "data": {
      "text/plain": "    location        date  weathercode  temperature_max  temperature_min  \\\n208   Londyn  2022-10-01           51             18.3             11.6   \n209   Londyn  2022-10-02           53             17.5             11.7   \n210   Londyn  2022-10-03            3             17.2              9.0   \n211   Londyn  2022-10-04           51             17.4             12.1   \n212   Londyn  2022-10-05           51             18.6             11.4   \n\n     rain_sum  snowfall_sum  windspeed_max  winddirection_dominant  \n208       0.2           0.0           23.5                     196  \n209       1.7           0.0           15.3                     165  \n210       0.0           0.0           13.3                     280  \n211       0.1           0.0           24.2                     236  \n212       0.8           0.0           41.1                     224  ",
      "text/html": "<div>\n<style scoped>\n    .dataframe tbody tr th:only-of-type {\n        vertical-align: middle;\n    }\n\n    .dataframe tbody tr th {\n        vertical-align: top;\n    }\n\n    .dataframe thead th {\n        text-align: right;\n    }\n</style>\n<table border=\"1\" class=\"dataframe\">\n  <thead>\n    <tr style=\"text-align: right;\">\n      <th></th>\n      <th>location</th>\n      <th>date</th>\n      <th>weathercode</th>\n      <th>temperature_max</th>\n      <th>temperature_min</th>\n      <th>rain_sum</th>\n      <th>snowfall_sum</th>\n      <th>windspeed_max</th>\n      <th>winddirection_dominant</th>\n    </tr>\n  </thead>\n  <tbody>\n    <tr>\n      <th>208</th>\n      <td>Londyn</td>\n      <td>2022-10-01</td>\n      <td>51</td>\n      <td>18.3</td>\n      <td>11.6</td>\n      <td>0.2</td>\n      <td>0.0</td>\n      <td>23.5</td>\n      <td>196</td>\n    </tr>\n    <tr>\n      <th>209</th>\n      <td>Londyn</td>\n      <td>2022-10-02</td>\n      <td>53</td>\n      <td>17.5</td>\n      <td>11.7</td>\n      <td>1.7</td>\n      <td>0.0</td>\n      <td>15.3</td>\n      <td>165</td>\n    </tr>\n    <tr>\n      <th>210</th>\n      <td>Londyn</td>\n      <td>2022-10-03</td>\n      <td>3</td>\n      <td>17.2</td>\n      <td>9.0</td>\n      <td>0.0</td>\n      <td>0.0</td>\n      <td>13.3</td>\n      <td>280</td>\n    </tr>\n    <tr>\n      <th>211</th>\n      <td>Londyn</td>\n      <td>2022-10-04</td>\n      <td>51</td>\n      <td>17.4</td>\n      <td>12.1</td>\n      <td>0.1</td>\n      <td>0.0</td>\n      <td>24.2</td>\n      <td>236</td>\n    </tr>\n    <tr>\n      <th>212</th>\n      <td>Londyn</td>\n      <td>2022-10-05</td>\n      <td>51</td>\n      <td>18.6</td>\n      <td>11.4</td>\n      <td>0.8</td>\n      <td>0.0</td>\n      <td>41.1</td>\n      <td>224</td>\n    </tr>\n  </tbody>\n</table>\n</div>"
     },
     "execution_count": 24,
     "metadata": {},
     "output_type": "execute_result"
    }
   ],
   "source": [
    "df_lon = df[df['location'] == 'Londyn']\n",
    "df_lon.head()"
   ],
   "metadata": {
    "collapsed": false
   }
  },
  {
   "cell_type": "code",
   "execution_count": 25,
   "outputs": [
    {
     "data": {
      "text/plain": "F_onewayResult(statistic=1.7351034242297607, pvalue=0.17809596037169284)"
     },
     "execution_count": 25,
     "metadata": {},
     "output_type": "execute_result"
    }
   ],
   "source": [
    "f_oneway(df_ol['winddirection_dominant'], df_war['winddirection_dominant'], df_lon['winddirection_dominant'])"
   ],
   "metadata": {
    "collapsed": false
   }
  },
  {
   "cell_type": "markdown",
   "source": [
    "Można przyjąć, że średnie dominującego kierunku wiatru dla Olsztyna, Warszawy i Londynu są równe"
   ],
   "metadata": {
    "collapsed": false
   }
  }
 ],
 "metadata": {
  "kernelspec": {
   "display_name": "Python 3",
   "language": "python",
   "name": "python3"
  },
  "language_info": {
   "codemirror_mode": {
    "name": "ipython",
    "version": 2
   },
   "file_extension": ".py",
   "mimetype": "text/x-python",
   "name": "python",
   "nbconvert_exporter": "python",
   "pygments_lexer": "ipython2",
   "version": "2.7.6"
  }
 },
 "nbformat": 4,
 "nbformat_minor": 0
}
