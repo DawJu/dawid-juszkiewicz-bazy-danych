{
 "cells": [
  {
   "cell_type": "code",
   "execution_count": 103,
   "metadata": {
    "collapsed": true
   },
   "outputs": [],
   "source": [
    "import pandas as pd\n",
    "import matplotlib.pyplot as plt\n",
    "from scipy.stats import linregress\n",
    "from statsmodels.api import add_constant, OLS"
   ]
  },
  {
   "cell_type": "code",
   "execution_count": 104,
   "outputs": [
    {
     "data": {
      "text/plain": "  location        date  weathercode  temperature_max  temperature_min  \\\n0  Olsztyn  2022-10-01           53             14.8              7.2   \n1  Olsztyn  2022-10-02           61             13.2              9.4   \n2  Olsztyn  2022-10-03           53             12.3              8.9   \n3  Olsztyn  2022-10-04           51             13.5              8.8   \n4  Olsztyn  2022-10-05            3             15.7              9.2   \n\n   rain_sum  snowfall_sum  windspeed_max  winddirection_dominant  \n0       3.4           0.0           17.7                     268  \n1       4.5           0.0           22.4                     188  \n2       1.6           0.0           31.6                     133  \n3       0.8           0.0           26.3                     146  \n4       0.0           0.0           20.2                     226  ",
      "text/html": "<div>\n<style scoped>\n    .dataframe tbody tr th:only-of-type {\n        vertical-align: middle;\n    }\n\n    .dataframe tbody tr th {\n        vertical-align: top;\n    }\n\n    .dataframe thead th {\n        text-align: right;\n    }\n</style>\n<table border=\"1\" class=\"dataframe\">\n  <thead>\n    <tr style=\"text-align: right;\">\n      <th></th>\n      <th>location</th>\n      <th>date</th>\n      <th>weathercode</th>\n      <th>temperature_max</th>\n      <th>temperature_min</th>\n      <th>rain_sum</th>\n      <th>snowfall_sum</th>\n      <th>windspeed_max</th>\n      <th>winddirection_dominant</th>\n    </tr>\n  </thead>\n  <tbody>\n    <tr>\n      <th>0</th>\n      <td>Olsztyn</td>\n      <td>2022-10-01</td>\n      <td>53</td>\n      <td>14.8</td>\n      <td>7.2</td>\n      <td>3.4</td>\n      <td>0.0</td>\n      <td>17.7</td>\n      <td>268</td>\n    </tr>\n    <tr>\n      <th>1</th>\n      <td>Olsztyn</td>\n      <td>2022-10-02</td>\n      <td>61</td>\n      <td>13.2</td>\n      <td>9.4</td>\n      <td>4.5</td>\n      <td>0.0</td>\n      <td>22.4</td>\n      <td>188</td>\n    </tr>\n    <tr>\n      <th>2</th>\n      <td>Olsztyn</td>\n      <td>2022-10-03</td>\n      <td>53</td>\n      <td>12.3</td>\n      <td>8.9</td>\n      <td>1.6</td>\n      <td>0.0</td>\n      <td>31.6</td>\n      <td>133</td>\n    </tr>\n    <tr>\n      <th>3</th>\n      <td>Olsztyn</td>\n      <td>2022-10-04</td>\n      <td>51</td>\n      <td>13.5</td>\n      <td>8.8</td>\n      <td>0.8</td>\n      <td>0.0</td>\n      <td>26.3</td>\n      <td>146</td>\n    </tr>\n    <tr>\n      <th>4</th>\n      <td>Olsztyn</td>\n      <td>2022-10-05</td>\n      <td>3</td>\n      <td>15.7</td>\n      <td>9.2</td>\n      <td>0.0</td>\n      <td>0.0</td>\n      <td>20.2</td>\n      <td>226</td>\n    </tr>\n  </tbody>\n</table>\n</div>"
     },
     "execution_count": 104,
     "metadata": {},
     "output_type": "execute_result"
    }
   ],
   "source": [
    "df = pd.read_csv('data/daily_data.csv')\n",
    "df_ol = df[df['location'] == 'Olsztyn']\n",
    "df_ol.head()"
   ],
   "metadata": {
    "collapsed": false
   }
  },
  {
   "cell_type": "code",
   "execution_count": 105,
   "outputs": [
    {
     "data": {
      "text/plain": "LinregressResult(slope=1.1114001976586496, intercept=3.885048146205525, rvalue=0.9534126572662663, pvalue=6.745844609385518e-55, stderr=0.034819332330958984, intercept_stderr=0.21422842765332925)"
     },
     "execution_count": 105,
     "metadata": {},
     "output_type": "execute_result"
    }
   ],
   "source": [
    "x = df_ol['temperature_min']\n",
    "y = df_ol['temperature_max']\n",
    "result = linregress(x, y)\n",
    "result"
   ],
   "metadata": {
    "collapsed": false
   }
  },
  {
   "cell_type": "markdown",
   "source": [
    "Wykres prostej regresji liniowej z jedną zmienną objaśniającą, próbującej przewidzieć maksymalną temperaturę danego dnia na podstawie minimalnej temperatury tego dnia. Dla przykładu: dla minimalnej temperatury wynoszącej 0 stopni, przewidziana została maksymalna temperatura około 3.89 stopnia"
   ],
   "metadata": {
    "collapsed": false
   }
  },
  {
   "cell_type": "code",
   "execution_count": 106,
   "outputs": [
    {
     "data": {
      "text/plain": "<Figure size 432x288 with 1 Axes>",
      "image/png": "[encoded data removed]"
     },
     "metadata": {
      "needs_background": "light"
     },
     "output_type": "display_data"
    }
   ],
   "source": [
    "plt.plot(x, y, 'o', label='original data')\n",
    "plt.plot(x, result.intercept + result.slope * x, 'r', label='fitted line')\n",
    "plt.legend()\n",
    "plt.show()"
   ],
   "metadata": {
    "collapsed": false
   }
  },
  {
   "cell_type": "code",
   "execution_count": 107,
   "outputs": [
    {
     "data": {
      "text/plain": "18.5555307552997"
     },
     "execution_count": 107,
     "metadata": {},
     "output_type": "execute_result"
    }
   ],
   "source": [
    "result.intercept + result.slope * 13.2"
   ],
   "metadata": {
    "collapsed": false
   }
  },
  {
   "cell_type": "markdown",
   "source": [
    "Dla minimalnej temperatury wynoszącej 13.2 stopnia, przewidziana została maksymalna temperatura około 18.56 stopnia"
   ],
   "metadata": {
    "collapsed": false
   }
  },
  {
   "cell_type": "code",
   "execution_count": 108,
   "outputs": [
    {
     "data": {
      "text/plain": "            const  weathercode  temperature_min  rain_sum  snowfall_sum  \\\ndate                                                                      \n2022-10-01    1.0           53              7.2       3.4           0.0   \n2022-10-02    1.0           61              9.4       4.5           0.0   \n2022-10-03    1.0           53              8.9       1.6           0.0   \n2022-10-04    1.0           51              8.8       0.8           0.0   \n2022-10-05    1.0            3              9.2       0.0           0.0   \n\n            windspeed_max  winddirection_dominant  \ndate                                               \n2022-10-01           17.7                     268  \n2022-10-02           22.4                     188  \n2022-10-03           31.6                     133  \n2022-10-04           26.3                     146  \n2022-10-05           20.2                     226  ",
      "text/html": "<div>\n<style scoped>\n    .dataframe tbody tr th:only-of-type {\n        vertical-align: middle;\n    }\n\n    .dataframe tbody tr th {\n        vertical-align: top;\n    }\n\n    .dataframe thead th {\n        text-align: right;\n    }\n</style>\n<table border=\"1\" class=\"dataframe\">\n  <thead>\n    <tr style=\"text-align: right;\">\n      <th></th>\n      <th>const</th>\n      <th>weathercode</th>\n      <th>temperature_min</th>\n      <th>rain_sum</th>\n      <th>snowfall_sum</th>\n      <th>windspeed_max</th>\n      <th>winddirection_dominant</th>\n    </tr>\n    <tr>\n      <th>date</th>\n      <th></th>\n      <th></th>\n      <th></th>\n      <th></th>\n      <th></th>\n      <th></th>\n      <th></th>\n    </tr>\n  </thead>\n  <tbody>\n    <tr>\n      <th>2022-10-01</th>\n      <td>1.0</td>\n      <td>53</td>\n      <td>7.2</td>\n      <td>3.4</td>\n      <td>0.0</td>\n      <td>17.7</td>\n      <td>268</td>\n    </tr>\n    <tr>\n      <th>2022-10-02</th>\n      <td>1.0</td>\n      <td>61</td>\n      <td>9.4</td>\n      <td>4.5</td>\n      <td>0.0</td>\n      <td>22.4</td>\n      <td>188</td>\n    </tr>\n    <tr>\n      <th>2022-10-03</th>\n      <td>1.0</td>\n      <td>53</td>\n      <td>8.9</td>\n      <td>1.6</td>\n      <td>0.0</td>\n      <td>31.6</td>\n      <td>133</td>\n    </tr>\n    <tr>\n      <th>2022-10-04</th>\n      <td>1.0</td>\n      <td>51</td>\n      <td>8.8</td>\n      <td>0.8</td>\n      <td>0.0</td>\n      <td>26.3</td>\n      <td>146</td>\n    </tr>\n    <tr>\n      <th>2022-10-05</th>\n      <td>1.0</td>\n      <td>3</td>\n      <td>9.2</td>\n      <td>0.0</td>\n      <td>0.0</td>\n      <td>20.2</td>\n      <td>226</td>\n    </tr>\n  </tbody>\n</table>\n</div>"
     },
     "execution_count": 108,
     "metadata": {},
     "output_type": "execute_result"
    }
   ],
   "source": [
    "X = df_ol[['date', 'weathercode', 'temperature_min', 'rain_sum', 'snowfall_sum', 'windspeed_max', 'winddirection_dominant']]\n",
    "X.set_index('date', inplace=True)\n",
    "X = add_constant(X)\n",
    "Y = df_ol[['date', 'temperature_max']]\n",
    "Y.set_index('date', inplace=True)\n",
    "X.head()"
   ],
   "metadata": {
    "collapsed": false
   }
  },
  {
   "cell_type": "code",
   "execution_count": 110,
   "outputs": [
    {
     "data": {
      "text/plain": "            temperature_max\ndate                       \n2022-10-01             14.8\n2022-10-02             13.2\n2022-10-03             12.3\n2022-10-04             13.5\n2022-10-05             15.7",
      "text/html": "<div>\n<style scoped>\n    .dataframe tbody tr th:only-of-type {\n        vertical-align: middle;\n    }\n\n    .dataframe tbody tr th {\n        vertical-align: top;\n    }\n\n    .dataframe thead th {\n        text-align: right;\n    }\n</style>\n<table border=\"1\" class=\"dataframe\">\n  <thead>\n    <tr style=\"text-align: right;\">\n      <th></th>\n      <th>temperature_max</th>\n    </tr>\n    <tr>\n      <th>date</th>\n      <th></th>\n    </tr>\n  </thead>\n  <tbody>\n    <tr>\n      <th>2022-10-01</th>\n      <td>14.8</td>\n    </tr>\n    <tr>\n      <th>2022-10-02</th>\n      <td>13.2</td>\n    </tr>\n    <tr>\n      <th>2022-10-03</th>\n      <td>12.3</td>\n    </tr>\n    <tr>\n      <th>2022-10-04</th>\n      <td>13.5</td>\n    </tr>\n    <tr>\n      <th>2022-10-05</th>\n      <td>15.7</td>\n    </tr>\n  </tbody>\n</table>\n</div>"
     },
     "execution_count": 110,
     "metadata": {},
     "output_type": "execute_result"
    }
   ],
   "source": [
    "Y.head()"
   ],
   "metadata": {
    "collapsed": false
   }
  },
  {
   "cell_type": "code",
   "execution_count": 111,
   "outputs": [
    {
     "data": {
      "text/plain": "<class 'statsmodels.iolib.summary.Summary'>\n\"\"\"\n                            OLS Regression Results                            \n==============================================================================\nDep. Variable:        temperature_max   R-squared:                       0.922\nModel:                            OLS   Adj. R-squared:                  0.917\nMethod:                 Least Squares   F-statistic:                     191.5\nDate:                Fri, 10 Feb 2023   Prob (F-statistic):           1.81e-51\nTime:                        15:36:38   Log-Likelihood:                -209.77\nNo. Observations:                 104   AIC:                             433.5\nDf Residuals:                      97   BIC:                             452.0\nDf Model:                           6                                         \nCovariance Type:            nonrobust                                         \n==========================================================================================\n                             coef    std err          t      P>|t|      [0.025      0.975]\n------------------------------------------------------------------------------------------\nconst                      1.7069      0.913      1.869      0.065      -0.106       3.520\nweathercode               -0.0118      0.009     -1.352      0.180      -0.029       0.006\ntemperature_min            1.0701      0.036     29.506      0.000       0.998       1.142\nrain_sum                  -0.0270      0.128     -0.211      0.833      -0.281       0.227\nsnowfall_sum              -0.5263      0.321     -1.637      0.105      -1.164       0.112\nwindspeed_max              0.1300      0.038      3.408      0.001       0.054       0.206\nwinddirection_dominant     0.0023      0.002      0.946      0.346      -0.002       0.007\n==============================================================================\nOmnibus:                        5.031   Durbin-Watson:                   1.368\nProb(Omnibus):                  0.081   Jarque-Bera (JB):                4.966\nSkew:                           0.534   Prob(JB):                       0.0835\nKurtosis:                       2.913   Cond. No.                     1.18e+03\n==============================================================================\n\nNotes:\n[1] Standard Errors assume that the covariance matrix of the errors is correctly specified.\n[2] The condition number is large, 1.18e+03. This might indicate that there are\nstrong multicollinearity or other numerical problems.\n\"\"\"",
      "text/html": "<table class=\"simpletable\">\n<caption>OLS Regression Results</caption>\n<tr>\n  <th>Dep. Variable:</th>     <td>temperature_max</td> <th>  R-squared:         </th> <td>   0.922</td>\n</tr>\n<tr>\n  <th>Model:</th>                   <td>OLS</td>       <th>  Adj. R-squared:    </th> <td>   0.917</td>\n</tr>\n<tr>\n  <th>Method:</th>             <td>Least Squares</td>  <th>  F-statistic:       </th> <td>   191.5</td>\n</tr>\n<tr>\n  <th>Date:</th>             <td>Fri, 10 Feb 2023</td> <th>  Prob (F-statistic):</th> <td>1.81e-51</td>\n</tr>\n<tr>\n  <th>Time:</th>                 <td>15:36:38</td>     <th>  Log-Likelihood:    </th> <td> -209.77</td>\n</tr>\n<tr>\n  <th>No. Observations:</th>      <td>   104</td>      <th>  AIC:               </th> <td>   433.5</td>\n</tr>\n<tr>\n  <th>Df Residuals:</th>          <td>    97</td>      <th>  BIC:               </th> <td>   452.0</td>\n</tr>\n<tr>\n  <th>Df Model:</th>              <td>     6</td>      <th>                     </th>     <td> </td>   \n</tr>\n<tr>\n  <th>Covariance Type:</th>      <td>nonrobust</td>    <th>                     </th>     <td> </td>   \n</tr>\n</table>\n<table class=\"simpletable\">\n<tr>\n             <td></td>               <th>coef</th>     <th>std err</th>      <th>t</th>      <th>P>|t|</th>  <th>[0.025</th>    <th>0.975]</th>  \n</tr>\n<tr>\n  <th>const</th>                  <td>    1.7069</td> <td>    0.913</td> <td>    1.869</td> <td> 0.065</td> <td>   -0.106</td> <td>    3.520</td>\n</tr>\n<tr>\n  <th>weathercode</th>            <td>   -0.0118</td> <td>    0.009</td> <td>   -1.352</td> <td> 0.180</td> <td>   -0.029</td> <td>    0.006</td>\n</tr>\n<tr>\n  <th>temperature_min</th>        <td>    1.0701</td> <td>    0.036</td> <td>   29.506</td> <td> 0.000</td> <td>    0.998</td> <td>    1.142</td>\n</tr>\n<tr>\n  <th>rain_sum</th>               <td>   -0.0270</td> <td>    0.128</td> <td>   -0.211</td> <td> 0.833</td> <td>   -0.281</td> <td>    0.227</td>\n</tr>\n<tr>\n  <th>snowfall_sum</th>           <td>   -0.5263</td> <td>    0.321</td> <td>   -1.637</td> <td> 0.105</td> <td>   -1.164</td> <td>    0.112</td>\n</tr>\n<tr>\n  <th>windspeed_max</th>          <td>    0.1300</td> <td>    0.038</td> <td>    3.408</td> <td> 0.001</td> <td>    0.054</td> <td>    0.206</td>\n</tr>\n<tr>\n  <th>winddirection_dominant</th> <td>    0.0023</td> <td>    0.002</td> <td>    0.946</td> <td> 0.346</td> <td>   -0.002</td> <td>    0.007</td>\n</tr>\n</table>\n<table class=\"simpletable\">\n<tr>\n  <th>Omnibus:</th>       <td> 5.031</td> <th>  Durbin-Watson:     </th> <td>   1.368</td>\n</tr>\n<tr>\n  <th>Prob(Omnibus):</th> <td> 0.081</td> <th>  Jarque-Bera (JB):  </th> <td>   4.966</td>\n</tr>\n<tr>\n  <th>Skew:</th>          <td> 0.534</td> <th>  Prob(JB):          </th> <td>  0.0835</td>\n</tr>\n<tr>\n  <th>Kurtosis:</th>      <td> 2.913</td> <th>  Cond. No.          </th> <td>1.18e+03</td>\n</tr>\n</table><br/><br/>Notes:<br/>[1] Standard Errors assume that the covariance matrix of the errors is correctly specified.<br/>[2] The condition number is large, 1.18e+03. This might indicate that there are<br/>strong multicollinearity or other numerical problems."
     },
     "execution_count": 111,
     "metadata": {},
     "output_type": "execute_result"
    }
   ],
   "source": [
    "model = OLS(Y, X).fit()\n",
    "prediction = model.predict(X)\n",
    "model.summary()"
   ],
   "metadata": {
    "collapsed": false
   }
  },
  {
   "cell_type": "code",
   "execution_count": 112,
   "outputs": [
    {
     "data": {
      "text/plain": "date\n2022-10-01    11.604666\n2022-10-02    14.265315\n2022-10-03    14.974642\n2022-10-04    14.252906\n2022-10-05    14.654862\n                ...    \n2023-01-08     6.919122\n2023-01-09     5.491291\n2023-01-10     4.728031\n2023-01-11     5.508210\n2023-01-12     8.203084\nLength: 104, dtype: float64"
     },
     "execution_count": 112,
     "metadata": {},
     "output_type": "execute_result"
    }
   ],
   "source": [
    "prediction"
   ],
   "metadata": {
    "collapsed": false
   }
  },
  {
   "cell_type": "markdown",
   "source": [
    "Zestawienie faktycznej maksymalnej temperatury danego dnia z wartością przewidzianą"
   ],
   "metadata": {
    "collapsed": false
   }
  },
  {
   "cell_type": "code",
   "execution_count": 113,
   "outputs": [
    {
     "data": {
      "text/plain": "            temperature_max  predicted value\ndate                                        \n2022-10-01             14.8        11.604666\n2022-10-02             13.2        14.265315\n2022-10-03             12.3        14.974642\n2022-10-04             13.5        14.252906\n2022-10-05             15.7        14.654862\n...                     ...              ...\n2023-01-08              3.1         6.919122\n2023-01-09              3.9         5.491291\n2023-01-10              4.3         4.728031\n2023-01-11              3.5         5.508210\n2023-01-12              6.5         8.203084\n\n[104 rows x 2 columns]",
      "text/html": "<div>\n<style scoped>\n    .dataframe tbody tr th:only-of-type {\n        vertical-align: middle;\n    }\n\n    .dataframe tbody tr th {\n        vertical-align: top;\n    }\n\n    .dataframe thead th {\n        text-align: right;\n    }\n</style>\n<table border=\"1\" class=\"dataframe\">\n  <thead>\n    <tr style=\"text-align: right;\">\n      <th></th>\n      <th>temperature_max</th>\n      <th>predicted value</th>\n    </tr>\n    <tr>\n      <th>date</th>\n      <th></th>\n      <th></th>\n    </tr>\n  </thead>\n  <tbody>\n    <tr>\n      <th>2022-10-01</th>\n      <td>14.8</td>\n      <td>11.604666</td>\n    </tr>\n    <tr>\n      <th>2022-10-02</th>\n      <td>13.2</td>\n      <td>14.265315</td>\n    </tr>\n    <tr>\n      <th>2022-10-03</th>\n      <td>12.3</td>\n      <td>14.974642</td>\n    </tr>\n    <tr>\n      <th>2022-10-04</th>\n      <td>13.5</td>\n      <td>14.252906</td>\n    </tr>\n    <tr>\n      <th>2022-10-05</th>\n      <td>15.7</td>\n      <td>14.654862</td>\n    </tr>\n    <tr>\n      <th>...</th>\n      <td>...</td>\n      <td>...</td>\n    </tr>\n    <tr>\n      <th>2023-01-08</th>\n      <td>3.1</td>\n      <td>6.919122</td>\n    </tr>\n    <tr>\n      <th>2023-01-09</th>\n      <td>3.9</td>\n      <td>5.491291</td>\n    </tr>\n    <tr>\n      <th>2023-01-10</th>\n      <td>4.3</td>\n      <td>4.728031</td>\n    </tr>\n    <tr>\n      <th>2023-01-11</th>\n      <td>3.5</td>\n      <td>5.508210</td>\n    </tr>\n    <tr>\n      <th>2023-01-12</th>\n      <td>6.5</td>\n      <td>8.203084</td>\n    </tr>\n  </tbody>\n</table>\n<p>104 rows × 2 columns</p>\n</div>"
     },
     "execution_count": 113,
     "metadata": {},
     "output_type": "execute_result"
    }
   ],
   "source": [
    "pred_results = Y.copy()\n",
    "pred_results['predicted value'] = prediction\n",
    "pred_results"
   ],
   "metadata": {
    "collapsed": false
   }
  },
  {
   "cell_type": "markdown",
   "source": [
    "### Przewidywanie przyszłej temperatury"
   ],
   "metadata": {
    "collapsed": false
   }
  },
  {
   "cell_type": "code",
   "execution_count": 114,
   "outputs": [
    {
     "data": {
      "text/plain": "           date  temperature_min\n0    2022-10-01              7.2\n1    2022-10-02              9.4\n2    2022-10-03              8.9\n3    2022-10-04              8.8\n4    2022-10-05              9.2\n..          ...              ...\n99   2023-01-08              1.7\n100  2023-01-09              1.6\n101  2023-01-10              1.2\n102  2023-01-11              0.9\n103  2023-01-12              3.1\n\n[104 rows x 2 columns]",
      "text/html": "<div>\n<style scoped>\n    .dataframe tbody tr th:only-of-type {\n        vertical-align: middle;\n    }\n\n    .dataframe tbody tr th {\n        vertical-align: top;\n    }\n\n    .dataframe thead th {\n        text-align: right;\n    }\n</style>\n<table border=\"1\" class=\"dataframe\">\n  <thead>\n    <tr style=\"text-align: right;\">\n      <th></th>\n      <th>date</th>\n      <th>temperature_min</th>\n    </tr>\n  </thead>\n  <tbody>\n    <tr>\n      <th>0</th>\n      <td>2022-10-01</td>\n      <td>7.2</td>\n    </tr>\n    <tr>\n      <th>1</th>\n      <td>2022-10-02</td>\n      <td>9.4</td>\n    </tr>\n    <tr>\n      <th>2</th>\n      <td>2022-10-03</td>\n      <td>8.9</td>\n    </tr>\n    <tr>\n      <th>3</th>\n      <td>2022-10-04</td>\n      <td>8.8</td>\n    </tr>\n    <tr>\n      <th>4</th>\n      <td>2022-10-05</td>\n      <td>9.2</td>\n    </tr>\n    <tr>\n      <th>...</th>\n      <td>...</td>\n      <td>...</td>\n    </tr>\n    <tr>\n      <th>99</th>\n      <td>2023-01-08</td>\n      <td>1.7</td>\n    </tr>\n    <tr>\n      <th>100</th>\n      <td>2023-01-09</td>\n      <td>1.6</td>\n    </tr>\n    <tr>\n      <th>101</th>\n      <td>2023-01-10</td>\n      <td>1.2</td>\n    </tr>\n    <tr>\n      <th>102</th>\n      <td>2023-01-11</td>\n      <td>0.9</td>\n    </tr>\n    <tr>\n      <th>103</th>\n      <td>2023-01-12</td>\n      <td>3.1</td>\n    </tr>\n  </tbody>\n</table>\n<p>104 rows × 2 columns</p>\n</div>"
     },
     "execution_count": 114,
     "metadata": {},
     "output_type": "execute_result"
    }
   ],
   "source": [
    "df2 = df_ol.copy()\n",
    "df2 = df2[['date', 'temperature_min']]\n",
    "df2"
   ],
   "metadata": {
    "collapsed": false
   }
  },
  {
   "cell_type": "code",
   "execution_count": 115,
   "outputs": [
    {
     "data": {
      "text/plain": "Int64Index([  0,   1,   2,   3,   4,   5,   6,   7,   8,   9,\n            ...\n             94,  95,  96,  97,  98,  99, 100, 101, 102, 103],\n           dtype='int64', length=104)"
     },
     "execution_count": 115,
     "metadata": {},
     "output_type": "execute_result"
    }
   ],
   "source": [
    "x = df2['date']\n",
    "y = df2['temperature_min']\n",
    "x.index"
   ],
   "metadata": {
    "collapsed": false
   }
  },
  {
   "cell_type": "code",
   "execution_count": 116,
   "outputs": [
    {
     "data": {
      "text/plain": "LinregressResult(slope=-0.11592393043849357, intercept=8.53835164835165, rvalue=-0.6224640232234294, pvalue=1.7373732076680292e-12, stderr=0.014431964960087057, intercept_stderr=0.8603073348558196)"
     },
     "execution_count": 116,
     "metadata": {},
     "output_type": "execute_result"
    }
   ],
   "source": [
    "result = linregress(x.index, y)\n",
    "result"
   ],
   "metadata": {
    "collapsed": false
   }
  },
  {
   "cell_type": "code",
   "execution_count": 117,
   "outputs": [
    {
     "data": {
      "text/plain": "<Figure size 1440x576 with 1 Axes>",
      "image/png": "[encoded data removed]"
     },
     "metadata": {
      "needs_background": "light"
     },
     "output_type": "display_data"
    }
   ],
   "source": [
    "plt.figure(figsize=(20, 8))\n",
    "plt.plot(x, y, 'o', label='original data')\n",
    "plt.plot(x, result.intercept + result.slope * x.index, 'r', label='fitted line')\n",
    "plt.xticks(rotation=90)\n",
    "plt.legend()\n",
    "plt.show()"
   ],
   "metadata": {
    "collapsed": false
   }
  },
  {
   "cell_type": "markdown",
   "source": [
    "Przewidziana minimalna temperatura w Olsztynie na dzień 2023-01-13"
   ],
   "metadata": {
    "collapsed": false
   }
  },
  {
   "cell_type": "code",
   "execution_count": 118,
   "outputs": [
    {
     "data": {
      "text/plain": "-3.5177371172516807"
     },
     "execution_count": 118,
     "metadata": {},
     "output_type": "execute_result"
    }
   ],
   "source": [
    "result.intercept + result.slope * 104"
   ],
   "metadata": {
    "collapsed": false
   }
  },
  {
   "cell_type": "markdown",
   "source": [
    "### Temperatura godzinowa"
   ],
   "metadata": {
    "collapsed": false
   }
  },
  {
   "cell_type": "code",
   "execution_count": 119,
   "outputs": [
    {
     "data": {
      "text/plain": "         date  time  temperature\n0  2022-10-01     0          9.3\n1  2022-10-01     1          9.2\n2  2022-10-01     2          9.2\n3  2022-10-01     3          8.9\n4  2022-10-01     4          8.4",
      "text/html": "<div>\n<style scoped>\n    .dataframe tbody tr th:only-of-type {\n        vertical-align: middle;\n    }\n\n    .dataframe tbody tr th {\n        vertical-align: top;\n    }\n\n    .dataframe thead th {\n        text-align: right;\n    }\n</style>\n<table border=\"1\" class=\"dataframe\">\n  <thead>\n    <tr style=\"text-align: right;\">\n      <th></th>\n      <th>date</th>\n      <th>time</th>\n      <th>temperature</th>\n    </tr>\n  </thead>\n  <tbody>\n    <tr>\n      <th>0</th>\n      <td>2022-10-01</td>\n      <td>0</td>\n      <td>9.3</td>\n    </tr>\n    <tr>\n      <th>1</th>\n      <td>2022-10-01</td>\n      <td>1</td>\n      <td>9.2</td>\n    </tr>\n    <tr>\n      <th>2</th>\n      <td>2022-10-01</td>\n      <td>2</td>\n      <td>9.2</td>\n    </tr>\n    <tr>\n      <th>3</th>\n      <td>2022-10-01</td>\n      <td>3</td>\n      <td>8.9</td>\n    </tr>\n    <tr>\n      <th>4</th>\n      <td>2022-10-01</td>\n      <td>4</td>\n      <td>8.4</td>\n    </tr>\n  </tbody>\n</table>\n</div>"
     },
     "execution_count": 119,
     "metadata": {},
     "output_type": "execute_result"
    }
   ],
   "source": [
    "df3 = pd.read_csv('data/hourly_data.csv')\n",
    "df3 = df3[df3['location'] == 'Olsztyn']\n",
    "df3 = df3[['date', 'time', 'temperature']]\n",
    "df3.head()"
   ],
   "metadata": {
    "collapsed": false
   }
  },
  {
   "cell_type": "code",
   "execution_count": 133,
   "outputs": [],
   "source": [
    "X = df3[['date', 'time']]\n",
    "X['date_as_number'] = X['date'].str.replace('-', '').astype(int)\n",
    "X = add_constant(X)\n",
    "Y = df3['temperature']\n",
    "Y = pd.DataFrame(Y)"
   ],
   "metadata": {
    "collapsed": false
   }
  },
  {
   "cell_type": "code",
   "execution_count": 134,
   "outputs": [
    {
     "data": {
      "text/plain": "<class 'statsmodels.iolib.summary.Summary'>\n\"\"\"\n                            OLS Regression Results                            \n==============================================================================\nDep. Variable:            temperature   R-squared:                       0.006\nModel:                            OLS   Adj. R-squared:                  0.005\nMethod:                 Least Squares   F-statistic:                     7.388\nDate:                Fri, 10 Feb 2023   Prob (F-statistic):           0.000632\nTime:                        15:39:10   Log-Likelihood:                -8075.2\nNo. Observations:                2496   AIC:                         1.616e+04\nDf Residuals:                    2493   BIC:                         1.617e+04\nDf Model:                           2                                         \nCovariance Type:            nonrobust                                         \n==================================================================================\n                     coef    std err          t      P>|t|      [0.025      0.975]\n----------------------------------------------------------------------------------\nconst           2004.6868    866.730      2.313      0.021     305.102    3704.272\ndate_as_number -9.893e-05   4.29e-05     -2.308      0.021      -0.000   -1.49e-05\ntime               0.0547      0.018      3.074      0.002       0.020       0.090\n==============================================================================\nOmnibus:                      300.657   Durbin-Watson:                   0.007\nProb(Omnibus):                  0.000   Jarque-Bera (JB):               96.404\nSkew:                          -0.212   Prob(JB):                     1.16e-21\nKurtosis:                       2.136   Cond. No.                     1.42e+11\n==============================================================================\n\nNotes:\n[1] Standard Errors assume that the covariance matrix of the errors is correctly specified.\n[2] The condition number is large, 1.42e+11. This might indicate that there are\nstrong multicollinearity or other numerical problems.\n\"\"\"",
      "text/html": "<table class=\"simpletable\">\n<caption>OLS Regression Results</caption>\n<tr>\n  <th>Dep. Variable:</th>       <td>temperature</td>   <th>  R-squared:         </th> <td>   0.006</td> \n</tr>\n<tr>\n  <th>Model:</th>                   <td>OLS</td>       <th>  Adj. R-squared:    </th> <td>   0.005</td> \n</tr>\n<tr>\n  <th>Method:</th>             <td>Least Squares</td>  <th>  F-statistic:       </th> <td>   7.388</td> \n</tr>\n<tr>\n  <th>Date:</th>             <td>Fri, 10 Feb 2023</td> <th>  Prob (F-statistic):</th> <td>0.000632</td> \n</tr>\n<tr>\n  <th>Time:</th>                 <td>15:39:10</td>     <th>  Log-Likelihood:    </th> <td> -8075.2</td> \n</tr>\n<tr>\n  <th>No. Observations:</th>      <td>  2496</td>      <th>  AIC:               </th> <td>1.616e+04</td>\n</tr>\n<tr>\n  <th>Df Residuals:</th>          <td>  2493</td>      <th>  BIC:               </th> <td>1.617e+04</td>\n</tr>\n<tr>\n  <th>Df Model:</th>              <td>     2</td>      <th>                     </th>     <td> </td>    \n</tr>\n<tr>\n  <th>Covariance Type:</th>      <td>nonrobust</td>    <th>                     </th>     <td> </td>    \n</tr>\n</table>\n<table class=\"simpletable\">\n<tr>\n         <td></td>           <th>coef</th>     <th>std err</th>      <th>t</th>      <th>P>|t|</th>  <th>[0.025</th>    <th>0.975]</th>  \n</tr>\n<tr>\n  <th>const</th>          <td> 2004.6868</td> <td>  866.730</td> <td>    2.313</td> <td> 0.021</td> <td>  305.102</td> <td> 3704.272</td>\n</tr>\n<tr>\n  <th>date_as_number</th> <td>-9.893e-05</td> <td> 4.29e-05</td> <td>   -2.308</td> <td> 0.021</td> <td>   -0.000</td> <td>-1.49e-05</td>\n</tr>\n<tr>\n  <th>time</th>           <td>    0.0547</td> <td>    0.018</td> <td>    3.074</td> <td> 0.002</td> <td>    0.020</td> <td>    0.090</td>\n</tr>\n</table>\n<table class=\"simpletable\">\n<tr>\n  <th>Omnibus:</th>       <td>300.657</td> <th>  Durbin-Watson:     </th> <td>   0.007</td>\n</tr>\n<tr>\n  <th>Prob(Omnibus):</th> <td> 0.000</td>  <th>  Jarque-Bera (JB):  </th> <td>  96.404</td>\n</tr>\n<tr>\n  <th>Skew:</th>          <td>-0.212</td>  <th>  Prob(JB):          </th> <td>1.16e-21</td>\n</tr>\n<tr>\n  <th>Kurtosis:</th>      <td> 2.136</td>  <th>  Cond. No.          </th> <td>1.42e+11</td>\n</tr>\n</table><br/><br/>Notes:<br/>[1] Standard Errors assume that the covariance matrix of the errors is correctly specified.<br/>[2] The condition number is large, 1.42e+11. This might indicate that there are<br/>strong multicollinearity or other numerical problems."
     },
     "execution_count": 134,
     "metadata": {},
     "output_type": "execute_result"
    }
   ],
   "source": [
    "model = OLS(Y, X[['const', 'date_as_number', 'time']]).fit()\n",
    "prediction = model.predict(X[['const', 'date_as_number', 'time']])\n",
    "model.summary()"
   ],
   "metadata": {
    "collapsed": false
   }
  },
  {
   "cell_type": "code",
   "execution_count": 135,
   "outputs": [
    {
     "data": {
      "text/plain": "0       4.142811\n1       4.197496\n2       4.252181\n3       4.306865\n4       4.361550\n          ...   \n2491    4.280435\n2492    4.335119\n2493    4.389804\n2494    4.444489\n2495    4.499174\nLength: 2496, dtype: float64"
     },
     "execution_count": 135,
     "metadata": {},
     "output_type": "execute_result"
    }
   ],
   "source": [
    "prediction"
   ],
   "metadata": {
    "collapsed": false
   }
  },
  {
   "cell_type": "code",
   "execution_count": 136,
   "outputs": [
    {
     "data": {
      "text/plain": "      temperature  predicted value\n0             9.3         4.142811\n1             9.2         4.197496\n2             9.2         4.252181\n3             8.9         4.306865\n4             8.4         4.361550\n...           ...              ...\n2491          6.0         4.280435\n2492          5.9         4.335119\n2493          6.2         4.389804\n2494          6.5         4.444489\n2495          6.5         4.499174\n\n[2496 rows x 2 columns]",
      "text/html": "<div>\n<style scoped>\n    .dataframe tbody tr th:only-of-type {\n        vertical-align: middle;\n    }\n\n    .dataframe tbody tr th {\n        vertical-align: top;\n    }\n\n    .dataframe thead th {\n        text-align: right;\n    }\n</style>\n<table border=\"1\" class=\"dataframe\">\n  <thead>\n    <tr style=\"text-align: right;\">\n      <th></th>\n      <th>temperature</th>\n      <th>predicted value</th>\n    </tr>\n  </thead>\n  <tbody>\n    <tr>\n      <th>0</th>\n      <td>9.3</td>\n      <td>4.142811</td>\n    </tr>\n    <tr>\n      <th>1</th>\n      <td>9.2</td>\n      <td>4.197496</td>\n    </tr>\n    <tr>\n      <th>2</th>\n      <td>9.2</td>\n      <td>4.252181</td>\n    </tr>\n    <tr>\n      <th>3</th>\n      <td>8.9</td>\n      <td>4.306865</td>\n    </tr>\n    <tr>\n      <th>4</th>\n      <td>8.4</td>\n      <td>4.361550</td>\n    </tr>\n    <tr>\n      <th>...</th>\n      <td>...</td>\n      <td>...</td>\n    </tr>\n    <tr>\n      <th>2491</th>\n      <td>6.0</td>\n      <td>4.280435</td>\n    </tr>\n    <tr>\n      <th>2492</th>\n      <td>5.9</td>\n      <td>4.335119</td>\n    </tr>\n    <tr>\n      <th>2493</th>\n      <td>6.2</td>\n      <td>4.389804</td>\n    </tr>\n    <tr>\n      <th>2494</th>\n      <td>6.5</td>\n      <td>4.444489</td>\n    </tr>\n    <tr>\n      <th>2495</th>\n      <td>6.5</td>\n      <td>4.499174</td>\n    </tr>\n  </tbody>\n</table>\n<p>2496 rows × 2 columns</p>\n</div>"
     },
     "execution_count": 136,
     "metadata": {},
     "output_type": "execute_result"
    }
   ],
   "source": [
    "pred_results = Y.copy()\n",
    "pred_results['predicted value'] = prediction\n",
    "pred_results"
   ],
   "metadata": {
    "collapsed": false
   }
  }
 ],
 "metadata": {
  "kernelspec": {
   "display_name": "Python 3",
   "language": "python",
   "name": "python3"
  },
  "language_info": {
   "codemirror_mode": {
    "name": "ipython",
    "version": 2
   },
   "file_extension": ".py",
   "mimetype": "text/x-python",
   "name": "python",
   "nbconvert_exporter": "python",
   "pygments_lexer": "ipython2",
   "version": "2.7.6"
  }
 },
 "nbformat": 4,
 "nbformat_minor": 0
}
